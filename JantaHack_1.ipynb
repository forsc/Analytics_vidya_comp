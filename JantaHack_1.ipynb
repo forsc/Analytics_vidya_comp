{
 "cells": [
  {
   "cell_type": "code",
   "execution_count": 4,
   "metadata": {},
   "outputs": [],
   "source": [
    "import os\n",
    "import pandas as pd\n",
    "import numpy as np"
   ]
  },
  {
   "cell_type": "code",
   "execution_count": null,
   "metadata": {},
   "outputs": [],
   "source": []
  },
  {
   "cell_type": "code",
   "execution_count": 17,
   "metadata": {},
   "outputs": [],
   "source": [
    "import matplotlib.pyplot as plt\n",
    "%matplotlib inline"
   ]
  },
  {
   "cell_type": "code",
   "execution_count": 20,
   "metadata": {},
   "outputs": [],
   "source": [
    "from sklearn.model_selection import train_test_split\n",
    "from sklearn.metrics import accuracy_score, confusion_matrix, classification_report\n",
    "from sklearn.model_selection import GridSearchCV, StratifiedKFold\n",
    "from xgboost import XGBClassifier\n",
    "from sklearn.model_selection import learning_curve"
   ]
  },
  {
   "cell_type": "code",
   "execution_count": 5,
   "metadata": {},
   "outputs": [],
   "source": [
    "##\n",
    "os.chdir(\"D:\\\\av\")"
   ]
  },
  {
   "cell_type": "code",
   "execution_count": 3,
   "metadata": {},
   "outputs": [],
   "source": [
    "##reading the Data\n",
    "train_data = pd.read_csv(\"train_20D8GL3.csv\")\n",
    "test_data = pd.read_csv(\"test_O6kKpvt.csv\")"
   ]
  },
  {
   "cell_type": "code",
   "execution_count": 5,
   "metadata": {},
   "outputs": [
    {
     "name": "stdout",
     "output_type": "stream",
     "text": [
      "<class 'pandas.core.frame.DataFrame'>\n",
      "RangeIndex: 21000 entries, 0 to 20999\n",
      "Data columns (total 25 columns):\n",
      "ID                            21000 non-null int64\n",
      "LIMIT_BAL                     21000 non-null int64\n",
      "SEX                           21000 non-null int64\n",
      "EDUCATION                     21000 non-null int64\n",
      "MARRIAGE                      21000 non-null int64\n",
      "AGE                           21000 non-null int64\n",
      "PAY_0                         21000 non-null int64\n",
      "PAY_2                         21000 non-null int64\n",
      "PAY_3                         21000 non-null int64\n",
      "PAY_4                         21000 non-null int64\n",
      "PAY_5                         21000 non-null int64\n",
      "PAY_6                         21000 non-null int64\n",
      "BILL_AMT1                     21000 non-null int64\n",
      "BILL_AMT2                     21000 non-null int64\n",
      "BILL_AMT3                     21000 non-null int64\n",
      "BILL_AMT4                     21000 non-null int64\n",
      "BILL_AMT5                     21000 non-null int64\n",
      "BILL_AMT6                     21000 non-null int64\n",
      "PAY_AMT1                      21000 non-null int64\n",
      "PAY_AMT2                      21000 non-null int64\n",
      "PAY_AMT3                      21000 non-null int64\n",
      "PAY_AMT4                      21000 non-null int64\n",
      "PAY_AMT5                      21000 non-null int64\n",
      "PAY_AMT6                      21000 non-null int64\n",
      "default_payment_next_month    21000 non-null int64\n",
      "dtypes: int64(25)\n",
      "memory usage: 4.0 MB\n"
     ]
    }
   ],
   "source": [
    "##\n",
    "train_data.info()"
   ]
  },
  {
   "cell_type": "code",
   "execution_count": 6,
   "metadata": {},
   "outputs": [
    {
     "name": "stdout",
     "output_type": "stream",
     "text": [
      "<class 'pandas.core.frame.DataFrame'>\n",
      "RangeIndex: 9000 entries, 0 to 8999\n",
      "Data columns (total 24 columns):\n",
      "ID           9000 non-null int64\n",
      "LIMIT_BAL    9000 non-null int64\n",
      "SEX          9000 non-null int64\n",
      "EDUCATION    9000 non-null int64\n",
      "MARRIAGE     9000 non-null int64\n",
      "AGE          9000 non-null int64\n",
      "PAY_0        9000 non-null int64\n",
      "PAY_2        9000 non-null int64\n",
      "PAY_3        9000 non-null int64\n",
      "PAY_4        9000 non-null int64\n",
      "PAY_5        9000 non-null int64\n",
      "PAY_6        9000 non-null int64\n",
      "BILL_AMT1    9000 non-null int64\n",
      "BILL_AMT2    9000 non-null int64\n",
      "BILL_AMT3    9000 non-null int64\n",
      "BILL_AMT4    9000 non-null int64\n",
      "BILL_AMT5    9000 non-null int64\n",
      "BILL_AMT6    9000 non-null int64\n",
      "PAY_AMT1     9000 non-null int64\n",
      "PAY_AMT2     9000 non-null int64\n",
      "PAY_AMT3     9000 non-null int64\n",
      "PAY_AMT4     9000 non-null int64\n",
      "PAY_AMT5     9000 non-null int64\n",
      "PAY_AMT6     9000 non-null int64\n",
      "dtypes: int64(24)\n",
      "memory usage: 1.6 MB\n"
     ]
    }
   ],
   "source": [
    "test_data.info()"
   ]
  },
  {
   "cell_type": "code",
   "execution_count": 7,
   "metadata": {},
   "outputs": [
    {
     "data": {
      "text/plain": [
       "0    16355\n",
       "1     4645\n",
       "Name: default_payment_next_month, dtype: int64"
      ]
     },
     "execution_count": 7,
     "metadata": {},
     "output_type": "execute_result"
    }
   ],
   "source": [
    "train_data['default_payment_next_month'].value_counts()"
   ]
  },
  {
   "cell_type": "code",
   "execution_count": 95,
   "metadata": {},
   "outputs": [
    {
     "data": {
      "text/plain": [
       "0.2840110058086212"
      ]
     },
     "execution_count": 95,
     "metadata": {},
     "output_type": "execute_result"
    }
   ],
   "source": [
    "4645/16355"
   ]
  },
  {
   "cell_type": "code",
   "execution_count": 8,
   "metadata": {},
   "outputs": [],
   "source": [
    "y = train_data['default_payment_next_month'].copy()"
   ]
  },
  {
   "cell_type": "code",
   "execution_count": 9,
   "metadata": {},
   "outputs": [],
   "source": [
    "cols = train_data.columns[:-1]\n",
    "data = train_data[cols].copy()"
   ]
  },
  {
   "cell_type": "code",
   "execution_count": 12,
   "metadata": {},
   "outputs": [],
   "source": [
    "data.head()\n",
    "X = train_data.copy().drop(['default_payment_next_month','ID'], axis = 1)"
   ]
  },
  {
   "cell_type": "code",
   "execution_count": 13,
   "metadata": {},
   "outputs": [
    {
     "data": {
      "text/html": [
       "<div>\n",
       "<style scoped>\n",
       "    .dataframe tbody tr th:only-of-type {\n",
       "        vertical-align: middle;\n",
       "    }\n",
       "\n",
       "    .dataframe tbody tr th {\n",
       "        vertical-align: top;\n",
       "    }\n",
       "\n",
       "    .dataframe thead th {\n",
       "        text-align: right;\n",
       "    }\n",
       "</style>\n",
       "<table border=\"1\" class=\"dataframe\">\n",
       "  <thead>\n",
       "    <tr style=\"text-align: right;\">\n",
       "      <th></th>\n",
       "      <th>LIMIT_BAL</th>\n",
       "      <th>SEX</th>\n",
       "      <th>EDUCATION</th>\n",
       "      <th>MARRIAGE</th>\n",
       "      <th>AGE</th>\n",
       "      <th>PAY_0</th>\n",
       "      <th>PAY_2</th>\n",
       "      <th>PAY_3</th>\n",
       "      <th>PAY_4</th>\n",
       "      <th>PAY_5</th>\n",
       "      <th>...</th>\n",
       "      <th>BILL_AMT3</th>\n",
       "      <th>BILL_AMT4</th>\n",
       "      <th>BILL_AMT5</th>\n",
       "      <th>BILL_AMT6</th>\n",
       "      <th>PAY_AMT1</th>\n",
       "      <th>PAY_AMT2</th>\n",
       "      <th>PAY_AMT3</th>\n",
       "      <th>PAY_AMT4</th>\n",
       "      <th>PAY_AMT5</th>\n",
       "      <th>PAY_AMT6</th>\n",
       "    </tr>\n",
       "  </thead>\n",
       "  <tbody>\n",
       "    <tr>\n",
       "      <td>0</td>\n",
       "      <td>360000</td>\n",
       "      <td>2</td>\n",
       "      <td>2</td>\n",
       "      <td>2</td>\n",
       "      <td>25</td>\n",
       "      <td>-1</td>\n",
       "      <td>-1</td>\n",
       "      <td>-1</td>\n",
       "      <td>-1</td>\n",
       "      <td>-1</td>\n",
       "      <td>...</td>\n",
       "      <td>3479</td>\n",
       "      <td>3435</td>\n",
       "      <td>8870</td>\n",
       "      <td>2020</td>\n",
       "      <td>12590</td>\n",
       "      <td>3479</td>\n",
       "      <td>3446</td>\n",
       "      <td>8870</td>\n",
       "      <td>2020</td>\n",
       "      <td>27043</td>\n",
       "    </tr>\n",
       "    <tr>\n",
       "      <td>1</td>\n",
       "      <td>240000</td>\n",
       "      <td>2</td>\n",
       "      <td>1</td>\n",
       "      <td>2</td>\n",
       "      <td>46</td>\n",
       "      <td>2</td>\n",
       "      <td>2</td>\n",
       "      <td>-2</td>\n",
       "      <td>-1</td>\n",
       "      <td>0</td>\n",
       "      <td>...</td>\n",
       "      <td>0</td>\n",
       "      <td>2240</td>\n",
       "      <td>1681</td>\n",
       "      <td>2267</td>\n",
       "      <td>0</td>\n",
       "      <td>0</td>\n",
       "      <td>2240</td>\n",
       "      <td>0</td>\n",
       "      <td>2267</td>\n",
       "      <td>3074</td>\n",
       "    </tr>\n",
       "    <tr>\n",
       "      <td>2</td>\n",
       "      <td>320000</td>\n",
       "      <td>2</td>\n",
       "      <td>2</td>\n",
       "      <td>1</td>\n",
       "      <td>41</td>\n",
       "      <td>0</td>\n",
       "      <td>0</td>\n",
       "      <td>0</td>\n",
       "      <td>0</td>\n",
       "      <td>0</td>\n",
       "      <td>...</td>\n",
       "      <td>38717</td>\n",
       "      <td>35409</td>\n",
       "      <td>35036</td>\n",
       "      <td>35939</td>\n",
       "      <td>5000</td>\n",
       "      <td>2000</td>\n",
       "      <td>2000</td>\n",
       "      <td>3000</td>\n",
       "      <td>3000</td>\n",
       "      <td>1500</td>\n",
       "    </tr>\n",
       "    <tr>\n",
       "      <td>3</td>\n",
       "      <td>50000</td>\n",
       "      <td>2</td>\n",
       "      <td>2</td>\n",
       "      <td>2</td>\n",
       "      <td>24</td>\n",
       "      <td>-1</td>\n",
       "      <td>-1</td>\n",
       "      <td>-2</td>\n",
       "      <td>-2</td>\n",
       "      <td>-2</td>\n",
       "      <td>...</td>\n",
       "      <td>0</td>\n",
       "      <td>0</td>\n",
       "      <td>0</td>\n",
       "      <td>0</td>\n",
       "      <td>0</td>\n",
       "      <td>0</td>\n",
       "      <td>0</td>\n",
       "      <td>0</td>\n",
       "      <td>0</td>\n",
       "      <td>0</td>\n",
       "    </tr>\n",
       "    <tr>\n",
       "      <td>4</td>\n",
       "      <td>80000</td>\n",
       "      <td>1</td>\n",
       "      <td>3</td>\n",
       "      <td>1</td>\n",
       "      <td>52</td>\n",
       "      <td>-1</td>\n",
       "      <td>0</td>\n",
       "      <td>0</td>\n",
       "      <td>0</td>\n",
       "      <td>0</td>\n",
       "      <td>...</td>\n",
       "      <td>19385</td>\n",
       "      <td>20561</td>\n",
       "      <td>21261</td>\n",
       "      <td>21457</td>\n",
       "      <td>1500</td>\n",
       "      <td>1500</td>\n",
       "      <td>1500</td>\n",
       "      <td>1028</td>\n",
       "      <td>876</td>\n",
       "      <td>1449</td>\n",
       "    </tr>\n",
       "  </tbody>\n",
       "</table>\n",
       "<p>5 rows × 23 columns</p>\n",
       "</div>"
      ],
      "text/plain": [
       "   LIMIT_BAL  SEX  EDUCATION  MARRIAGE  AGE  PAY_0  PAY_2  PAY_3  PAY_4  \\\n",
       "0     360000    2          2         2   25     -1     -1     -1     -1   \n",
       "1     240000    2          1         2   46      2      2     -2     -1   \n",
       "2     320000    2          2         1   41      0      0      0      0   \n",
       "3      50000    2          2         2   24     -1     -1     -2     -2   \n",
       "4      80000    1          3         1   52     -1      0      0      0   \n",
       "\n",
       "   PAY_5  ...  BILL_AMT3  BILL_AMT4  BILL_AMT5  BILL_AMT6  PAY_AMT1  PAY_AMT2  \\\n",
       "0     -1  ...       3479       3435       8870       2020     12590      3479   \n",
       "1      0  ...          0       2240       1681       2267         0         0   \n",
       "2      0  ...      38717      35409      35036      35939      5000      2000   \n",
       "3     -2  ...          0          0          0          0         0         0   \n",
       "4      0  ...      19385      20561      21261      21457      1500      1500   \n",
       "\n",
       "   PAY_AMT3  PAY_AMT4  PAY_AMT5  PAY_AMT6  \n",
       "0      3446      8870      2020     27043  \n",
       "1      2240         0      2267      3074  \n",
       "2      2000      3000      3000      1500  \n",
       "3         0         0         0         0  \n",
       "4      1500      1028       876      1449  \n",
       "\n",
       "[5 rows x 23 columns]"
      ]
     },
     "execution_count": 13,
     "metadata": {},
     "output_type": "execute_result"
    }
   ],
   "source": [
    "X.head()"
   ]
  },
  {
   "cell_type": "code",
   "execution_count": 16,
   "metadata": {},
   "outputs": [],
   "source": [
    "X_train, X_test, y_train, y_test = train_test_split(X, y, test_size=0.33, random_state=1234)"
   ]
  },
  {
   "cell_type": "code",
   "execution_count": 21,
   "metadata": {},
   "outputs": [],
   "source": [
    "xgb = XGBClassifier(n_jobs = -1)"
   ]
  },
  {
   "cell_type": "code",
   "execution_count": 22,
   "metadata": {},
   "outputs": [
    {
     "name": "stdout",
     "output_type": "stream",
     "text": [
      "Accuracy: 81.154%\n"
     ]
    }
   ],
   "source": [
    "xgb.fit(X_train, y_train)\n",
    "prediction = xgb.predict(X_test)\n",
    "print(\"Accuracy: {}%\".format(round(accuracy_score(y_test, prediction) * 100,3)))"
   ]
  },
  {
   "cell_type": "code",
   "execution_count": 23,
   "metadata": {},
   "outputs": [
    {
     "data": {
      "image/png": "[encoded data removed]",
      "text/plain": [
       "<Figure size 432x288 with 1 Axes>"
      ]
     },
     "metadata": {
      "needs_background": "light"
     },
     "output_type": "display_data"
    }
   ],
   "source": [
    "tree_list = np.arange(10, 1000, 10) # 500500 trees...\n",
    "train = []\n",
    "test = []\n",
    "\n",
    "for tree in tree_list:\n",
    "    xgb = XGBClassifier(n_estimators=tree, n_jobs = -1, random_state=42)\n",
    "    xgb.fit(X_train, y_train)\n",
    "    prediction = xgb.predict(X_test)\n",
    "    trainpred = xgb.predict(X_train)\n",
    "    train_acc = accuracy_score(y_train, trainpred)\n",
    "    test_acc = accuracy_score(y_test, prediction)\n",
    "    train.append(train_acc)\n",
    "    test.append(test_acc)\n",
    "    \n",
    "performance = pd.DataFrame({'n_estimators':tree_list,'Train_acc':train,'Test_acc':test})\n",
    "\n",
    "fig, ax = plt.subplots()\n",
    "x_axis = tree_list\n",
    "ax.plot(x_axis, performance['Train_acc'], label='Train')\n",
    "ax.plot(x_axis, performance['Test_acc'], label='Test')\n",
    "ax.legend()\n",
    "plt.ylabel('accuracy')\n",
    "plt.title('XGB accuracy vs n_estimators')\n",
    "plt.show()"
   ]
  },
  {
   "cell_type": "code",
   "execution_count": 28,
   "metadata": {},
   "outputs": [
    {
     "data": {
      "image/png": "[encoded data removed]",
      "text/plain": [
       "<Figure size 432x288 with 1 Axes>"
      ]
     },
     "metadata": {
      "needs_background": "light"
     },
     "output_type": "display_data"
    }
   ],
   "source": [
    "tree_list = np.arange(2, 10) \n",
    "train = []\n",
    "test = []\n",
    "\n",
    "for tree in tree_list:\n",
    "    xgb = XGBClassifier(max_depth=tree, n_jobs = -1, random_state=42)\n",
    "    xgb.fit(X_train, y_train)\n",
    "    prediction = xgb.predict(X_test)\n",
    "    trainpred = xgb.predict(X_train)\n",
    "    train_acc = accuracy_score(y_train, trainpred)\n",
    "    test_acc = accuracy_score(y_test, prediction)\n",
    "    train.append(train_acc)\n",
    "    test.append(test_acc)\n",
    "    \n",
    "performance = pd.DataFrame({'max_depth':tree_list,'Train_acc':train,'Test_acc':test})\n",
    "\n",
    "fig, ax = plt.subplots()\n",
    "x_axis = tree_list\n",
    "ax.plot(x_axis, performance['Train_acc'], label='Train')\n",
    "ax.plot(x_axis, performance['Test_acc'], label='Test')\n",
    "ax.legend()\n",
    "plt.ylabel('accuracy')\n",
    "plt.title('XGB accuracy vs max_depth')\n",
    "plt.show()"
   ]
  },
  {
   "cell_type": "code",
   "execution_count": 26,
   "metadata": {},
   "outputs": [
    {
     "data": {
      "image/png": "[encoded data removed]",
      "text/plain": [
       "<Figure size 432x288 with 1 Axes>"
      ]
     },
     "metadata": {
      "needs_background": "light"
     },
     "output_type": "display_data"
    }
   ],
   "source": [
    "learn_list = np.arange(0.01, 0.99, 0.01) # About 20000 trees\n",
    "train = []\n",
    "test = []\n",
    "\n",
    "for tree in learn_list:\n",
    "    xgb = XGBClassifier(n_estimators=200, learning_rate=tree, n_jobs = -1, random_state=42)\n",
    "    xgb.fit(X_train, y_train)\n",
    "    prediction = xgb.predict(X_test)\n",
    "    trainpred = xgb.predict(X_train)\n",
    "    train_acc = accuracy_score(y_train, trainpred)\n",
    "    test_acc = accuracy_score(y_test, prediction)\n",
    "    train.append(train_acc)\n",
    "    test.append(test_acc)\n",
    "    \n",
    "performance = pd.DataFrame({'learning_rate':learn_list,'Train_acc':train,'Test_acc':test})\n",
    "\n",
    "fig, ax = plt.subplots()\n",
    "x_axis = learn_list\n",
    "ax.plot(x_axis, performance['Train_acc'], label='Train')\n",
    "ax.plot(x_axis, performance['Test_acc'], label='Test')\n",
    "ax.legend()\n",
    "plt.ylabel('accuracy')\n",
    "plt.title('XGB accuracy vs learning_rate')\n",
    "plt.show()"
   ]
  },
  {
   "cell_type": "code",
   "execution_count": 27,
   "metadata": {},
   "outputs": [
    {
     "data": {
      "image/png": "[encoded data removed]",
      "text/plain": [
       "<Figure size 864x360 with 2 Axes>"
      ]
     },
     "metadata": {
      "needs_background": "light"
     },
     "output_type": "display_data"
    }
   ],
   "source": [
    "tree_list = np.arange(0.1, 0.9, 0.1)\n",
    "train = []\n",
    "test = []\n",
    "train2 = []\n",
    "test2 = []\n",
    "\n",
    "for tree in tree_list:\n",
    "    xgb = XGBClassifier(base_score=tree, n_jobs = -1, random_state=42)\n",
    "    xgb.fit(X_train, y_train)\n",
    "    prediction = xgb.predict(X_test)\n",
    "    trainpred = xgb.predict(X_train)\n",
    "    train_acc = accuracy_score(y_train, trainpred)\n",
    "    test_acc = accuracy_score(y_test, prediction)\n",
    "    train.append(train_acc)\n",
    "    test.append(test_acc)\n",
    "    xgb = XGBClassifier(base_score=tree, n_estimators=200, n_jobs = -1, random_state=42)\n",
    "    xgb.fit(X_train, y_train)\n",
    "    prediction = xgb.predict(X_test)\n",
    "    trainpred = xgb.predict(X_train)\n",
    "    train_acc = accuracy_score(y_train, trainpred)\n",
    "    test_acc = accuracy_score(y_test, prediction)\n",
    "    train2.append(train_acc)\n",
    "    test2.append(test_acc)\n",
    "    \n",
    "performance = pd.DataFrame({'base_score':tree_list,'Train_acc':train,'Test_acc':test})\n",
    "performance2 = pd.DataFrame({'base_score':tree_list,'Train_acc':train2,'Test_acc':test2})\n",
    "\n",
    "fig, (ax1, ax2) = plt.subplots(1,2, figsize = (12, 5))\n",
    "\n",
    "x_axis = tree_list\n",
    "ax1.plot(x_axis, performance['Train_acc'], label='Train')\n",
    "ax1.plot(x_axis, performance['Test_acc'], label='Test')\n",
    "ax1.legend()\n",
    "plt.ylabel('accuracy')\n",
    "plt.title('Tree accuracy vs base_score')\n",
    "ax2.plot(x_axis, performance2['Train_acc'], label='Train')\n",
    "ax2.plot(x_axis, performance2['Test_acc'], label='Test')\n",
    "ax2.legend()\n",
    "plt.ylabel('accuracy')\n",
    "plt.title('Tree accuracy vs base_score')\n",
    "plt.show()"
   ]
  },
  {
   "cell_type": "code",
   "execution_count": 29,
   "metadata": {},
   "outputs": [],
   "source": [
    "best_XGB = XGBClassifier(base_score=0.5, booster='gbtree', colsample_bylevel=1,\n",
    "       colsample_bytree=1, gamma=0, learning_rate=0.05, max_delta_step=0,\n",
    "       max_depth=3, min_child_weight=1, missing=None, n_estimators=120,\n",
    "       n_jobs=-1, nthread=None, objective='binary:logistic', random_state=0,\n",
    "       reg_alpha=0, reg_lambda=1, scale_pos_weight=1, seed=None,\n",
    "       silent=True, subsample=1)"
   ]
  },
  {
   "cell_type": "code",
   "execution_count": 30,
   "metadata": {},
   "outputs": [
    {
     "name": "stdout",
     "output_type": "stream",
     "text": [
      "Accuracy: 81.861%\n"
     ]
    }
   ],
   "source": [
    "best_XGB.fit(X_train, y_train)\n",
    "prediction = best_XGB.predict(X_test)\n",
    "print(\"Accuracy: {}%\".format(round(accuracy_score(y_test, prediction) * 100,3)))"
   ]
  },
  {
   "cell_type": "code",
   "execution_count": 32,
   "metadata": {},
   "outputs": [
    {
     "name": "stdout",
     "output_type": "stream",
     "text": [
      "              precision    recall  f1-score   support\n",
      "\n",
      " Not Default       0.84      0.95      0.89      5420\n",
      "     Default       0.66      0.35      0.45      1510\n",
      "\n",
      "    accuracy                           0.82      6930\n",
      "   macro avg       0.75      0.65      0.67      6930\n",
      "weighted avg       0.80      0.82      0.80      6930\n",
      "\n"
     ]
    }
   ],
   "source": [
    "target_names = ['Not Default', 'Default']\n",
    "print(classification_report(y_test, prediction, target_names=target_names))"
   ]
  },
  {
   "cell_type": "code",
   "execution_count": 33,
   "metadata": {},
   "outputs": [
    {
     "data": {
      "text/plain": [
       "XGBClassifier(base_score=0.5, booster='gbtree', colsample_bylevel=1,\n",
       "              colsample_bynode=1, colsample_bytree=1, gamma=0, gpu_id=-1,\n",
       "              importance_type='gain', interaction_constraints=None,\n",
       "              learning_rate=0.05, max_delta_step=0, max_depth=3,\n",
       "              min_child_weight=1, missing=nan, monotone_constraints=None,\n",
       "              n_estimators=120, n_jobs=-1, nthread=-1, num_parallel_tree=1,\n",
       "              objective='binary:logistic', random_state=0, reg_alpha=0,\n",
       "              reg_lambda=1, scale_pos_weight=1, seed=0, silent=True,\n",
       "              subsample=1, tree_method=None, validate_parameters=False,\n",
       "              verbosity=None)"
      ]
     },
     "execution_count": 33,
     "metadata": {},
     "output_type": "execute_result"
    }
   ],
   "source": [
    "eval_set = [(X_train, y_train), (X_test, y_test)]\n",
    "\n",
    "best_XGB.fit(X_train, y_train, eval_metric=\"error\", eval_set=eval_set, verbose=False)"
   ]
  },
  {
   "cell_type": "code",
   "execution_count": 34,
   "metadata": {},
   "outputs": [
    {
     "data": {
      "image/png": "[encoded data removed]",
      "text/plain": [
       "<Figure size 432x288 with 1 Axes>"
      ]
     },
     "metadata": {
      "needs_background": "light"
     },
     "output_type": "display_data"
    }
   ],
   "source": [
    "# retrieve performance metrics\n",
    "results = best_XGB.evals_result()\n",
    "epochs = len(results['validation_0']['error'])\n",
    "x_axis = range(0, epochs)\n",
    "# plot rmse\n",
    "fig, ax = plt.subplots()\n",
    "ax.plot(x_axis, results['validation_0']['error'], label='Train')\n",
    "ax.plot(x_axis, results['validation_1']['error'], label='Test')\n",
    "ax.legend()\n",
    "plt.ylabel('error')\n",
    "plt.title('XGBoost accuracy')\n",
    "plt.show()"
   ]
  },
  {
   "cell_type": "code",
   "execution_count": 37,
   "metadata": {},
   "outputs": [
    {
     "name": "stdout",
     "output_type": "stream",
     "text": [
      "[0]\tvalidation_0-error:0.18456\n",
      "Will train until validation_0-error hasn't improved in 25 rounds.\n",
      "[1]\tvalidation_0-error:0.18369\n",
      "[2]\tvalidation_0-error:0.18413\n",
      "[3]\tvalidation_0-error:0.18413\n",
      "[4]\tvalidation_0-error:0.18413\n",
      "[5]\tvalidation_0-error:0.18398\n",
      "[6]\tvalidation_0-error:0.18398\n",
      "[7]\tvalidation_0-error:0.18398\n",
      "[8]\tvalidation_0-error:0.18398\n",
      "[9]\tvalidation_0-error:0.18398\n",
      "[10]\tvalidation_0-error:0.18398\n",
      "[11]\tvalidation_0-error:0.18413\n",
      "[12]\tvalidation_0-error:0.18413\n",
      "[13]\tvalidation_0-error:0.18413\n",
      "[14]\tvalidation_0-error:0.18413\n",
      "[15]\tvalidation_0-error:0.18326\n",
      "[16]\tvalidation_0-error:0.18326\n",
      "[17]\tvalidation_0-error:0.18312\n",
      "[18]\tvalidation_0-error:0.18384\n",
      "[19]\tvalidation_0-error:0.18384\n",
      "[20]\tvalidation_0-error:0.18413\n",
      "[21]\tvalidation_0-error:0.18369\n",
      "[22]\tvalidation_0-error:0.18384\n",
      "[23]\tvalidation_0-error:0.18413\n",
      "[24]\tvalidation_0-error:0.18413\n",
      "[25]\tvalidation_0-error:0.18369\n",
      "[26]\tvalidation_0-error:0.18384\n",
      "[27]\tvalidation_0-error:0.18384\n",
      "[28]\tvalidation_0-error:0.18369\n",
      "[29]\tvalidation_0-error:0.18341\n",
      "[30]\tvalidation_0-error:0.18369\n",
      "[31]\tvalidation_0-error:0.18341\n",
      "[32]\tvalidation_0-error:0.18326\n",
      "[33]\tvalidation_0-error:0.18326\n",
      "[34]\tvalidation_0-error:0.18297\n",
      "[35]\tvalidation_0-error:0.18326\n",
      "[36]\tvalidation_0-error:0.18240\n",
      "[37]\tvalidation_0-error:0.18211\n",
      "[38]\tvalidation_0-error:0.18182\n",
      "[39]\tvalidation_0-error:0.18211\n",
      "[40]\tvalidation_0-error:0.18240\n",
      "[41]\tvalidation_0-error:0.18240\n",
      "[42]\tvalidation_0-error:0.18268\n",
      "[43]\tvalidation_0-error:0.18268\n",
      "[44]\tvalidation_0-error:0.18268\n",
      "[45]\tvalidation_0-error:0.18254\n",
      "[46]\tvalidation_0-error:0.18254\n",
      "[47]\tvalidation_0-error:0.18240\n",
      "[48]\tvalidation_0-error:0.18268\n",
      "[49]\tvalidation_0-error:0.18254\n",
      "[50]\tvalidation_0-error:0.18268\n",
      "[51]\tvalidation_0-error:0.18268\n",
      "[52]\tvalidation_0-error:0.18268\n",
      "[53]\tvalidation_0-error:0.18283\n",
      "[54]\tvalidation_0-error:0.18297\n",
      "[55]\tvalidation_0-error:0.18283\n",
      "[56]\tvalidation_0-error:0.18268\n",
      "[57]\tvalidation_0-error:0.18254\n",
      "[58]\tvalidation_0-error:0.18268\n",
      "[59]\tvalidation_0-error:0.18283\n",
      "[60]\tvalidation_0-error:0.18254\n",
      "[61]\tvalidation_0-error:0.18268\n",
      "[62]\tvalidation_0-error:0.18240\n",
      "[63]\tvalidation_0-error:0.18211\n",
      "Stopping. Best iteration:\n",
      "[38]\tvalidation_0-error:0.18182\n",
      "\n"
     ]
    },
    {
     "data": {
      "text/plain": [
       "XGBClassifier(base_score=0.5, booster='gbtree', colsample_bylevel=1,\n",
       "              colsample_bynode=1, colsample_bytree=1, gamma=0, gpu_id=-1,\n",
       "              importance_type='gain', interaction_constraints=None,\n",
       "              learning_rate=0.05, max_delta_step=0, max_depth=3,\n",
       "              min_child_weight=1, missing=nan, monotone_constraints=None,\n",
       "              n_estimators=120, n_jobs=-1, nthread=-1, num_parallel_tree=1,\n",
       "              objective='binary:logistic', random_state=0, reg_alpha=0,\n",
       "              reg_lambda=1, scale_pos_weight=1, seed=0, silent=True,\n",
       "              subsample=1, tree_method=None, validate_parameters=False,\n",
       "              verbosity=None)"
      ]
     },
     "execution_count": 37,
     "metadata": {},
     "output_type": "execute_result"
    }
   ],
   "source": [
    "eval_set = [(X_test, y_test)]\n",
    "best_XGB.fit(X_train, y_train, early_stopping_rounds=25, \n",
    "             eval_metric=\"error\", eval_set=eval_set, verbose=True)"
   ]
  },
  {
   "cell_type": "code",
   "execution_count": 38,
   "metadata": {},
   "outputs": [],
   "source": [
    "best_XGB = XGBClassifier(base_score=0.5, booster='gbtree', colsample_bylevel=1,\n",
    "       colsample_bytree=1, gamma=0, learning_rate=0.05, max_delta_step=0,\n",
    "       max_depth=3, min_child_weight=1, missing=None, n_estimators=38,\n",
    "       n_jobs=-1, nthread=None, objective='binary:logistic',\n",
    "       random_state=0, reg_alpha=0, reg_lambda=1, scale_pos_weight=1,\n",
    "       seed=None, silent=True, subsample=1)"
   ]
  },
  {
   "cell_type": "code",
   "execution_count": 39,
   "metadata": {},
   "outputs": [
    {
     "name": "stdout",
     "output_type": "stream",
     "text": [
      "Accuracy: 81.789%\n"
     ]
    }
   ],
   "source": [
    "best_XGB.fit(X_train, y_train)\n",
    "prediction = best_XGB.predict(X_test)\n",
    "print(\"Accuracy: {}%\".format(round(accuracy_score(y_test, prediction) * 100,3)))"
   ]
  },
  {
   "cell_type": "code",
   "execution_count": 41,
   "metadata": {},
   "outputs": [],
   "source": [
    "##finalprediction\n",
    "ID_test = test_data['ID'].copy()\n",
    "prediction_2 = best_XGB.predict(test_data.copy().drop('ID', axis = 1))"
   ]
  },
  {
   "cell_type": "code",
   "execution_count": 42,
   "metadata": {},
   "outputs": [
    {
     "data": {
      "text/plain": [
       "array([0, 0, 0, ..., 0, 0, 0], dtype=int64)"
      ]
     },
     "execution_count": 42,
     "metadata": {},
     "output_type": "execute_result"
    }
   ],
   "source": [
    "prediction_2"
   ]
  },
  {
   "cell_type": "code",
   "execution_count": 43,
   "metadata": {},
   "outputs": [],
   "source": [
    "submission = pd.DataFrame({'ID':ID_test, 'default_payment_next_month':prediction_2})"
   ]
  },
  {
   "cell_type": "code",
   "execution_count": 44,
   "metadata": {},
   "outputs": [
    {
     "data": {
      "text/html": [
       "<div>\n",
       "<style scoped>\n",
       "    .dataframe tbody tr th:only-of-type {\n",
       "        vertical-align: middle;\n",
       "    }\n",
       "\n",
       "    .dataframe tbody tr th {\n",
       "        vertical-align: top;\n",
       "    }\n",
       "\n",
       "    .dataframe thead th {\n",
       "        text-align: right;\n",
       "    }\n",
       "</style>\n",
       "<table border=\"1\" class=\"dataframe\">\n",
       "  <thead>\n",
       "    <tr style=\"text-align: right;\">\n",
       "      <th></th>\n",
       "      <th>ID</th>\n",
       "      <th>default_payment_next_month</th>\n",
       "    </tr>\n",
       "  </thead>\n",
       "  <tbody>\n",
       "    <tr>\n",
       "      <td>0</td>\n",
       "      <td>10178</td>\n",
       "      <td>0</td>\n",
       "    </tr>\n",
       "    <tr>\n",
       "      <td>1</td>\n",
       "      <td>5304</td>\n",
       "      <td>0</td>\n",
       "    </tr>\n",
       "    <tr>\n",
       "      <td>2</td>\n",
       "      <td>5187</td>\n",
       "      <td>0</td>\n",
       "    </tr>\n",
       "    <tr>\n",
       "      <td>3</td>\n",
       "      <td>14495</td>\n",
       "      <td>0</td>\n",
       "    </tr>\n",
       "    <tr>\n",
       "      <td>4</td>\n",
       "      <td>20444</td>\n",
       "      <td>0</td>\n",
       "    </tr>\n",
       "  </tbody>\n",
       "</table>\n",
       "</div>"
      ],
      "text/plain": [
       "      ID  default_payment_next_month\n",
       "0  10178                           0\n",
       "1   5304                           0\n",
       "2   5187                           0\n",
       "3  14495                           0\n",
       "4  20444                           0"
      ]
     },
     "execution_count": 44,
     "metadata": {},
     "output_type": "execute_result"
    }
   ],
   "source": [
    "submission.head()"
   ]
  },
  {
   "cell_type": "code",
   "execution_count": 46,
   "metadata": {},
   "outputs": [],
   "source": [
    "submission.to_csv('submission.csv',index=False)"
   ]
  },
  {
   "cell_type": "code",
   "execution_count": 47,
   "metadata": {},
   "outputs": [],
   "source": [
    "from sklearn.svm import SVC"
   ]
  },
  {
   "cell_type": "code",
   "execution_count": 48,
   "metadata": {},
   "outputs": [],
   "source": [
    "SVM_Model = SVC(gamma='auto')"
   ]
  },
  {
   "cell_type": "code",
   "execution_count": 51,
   "metadata": {},
   "outputs": [
    {
     "data": {
      "text/plain": [
       "SVC(C=1.0, cache_size=200, class_weight=None, coef0=0.0,\n",
       "    decision_function_shape='ovr', degree=3, gamma='auto', kernel='rbf',\n",
       "    max_iter=-1, probability=False, random_state=None, shrinking=True,\n",
       "    tol=0.001, verbose=False)"
      ]
     },
     "execution_count": 51,
     "metadata": {},
     "output_type": "execute_result"
    }
   ],
   "source": [
    "SVM_Model.fit(X_train,y_train)"
   ]
  },
  {
   "cell_type": "code",
   "execution_count": 52,
   "metadata": {},
   "outputs": [
    {
     "name": "stdout",
     "output_type": "stream",
     "text": [
      "Accuracy - : 0.924\n"
     ]
    }
   ],
   "source": [
    "print (f'Accuracy - : {SVM_Model.score(X,y):.3f}')"
   ]
  },
  {
   "cell_type": "code",
   "execution_count": 53,
   "metadata": {},
   "outputs": [
    {
     "name": "stdout",
     "output_type": "stream",
     "text": [
      "              precision    recall  f1-score   support\n",
      "\n",
      " Not Default       0.78      1.00      0.88      5420\n",
      "     Default       0.42      0.01      0.02      1510\n",
      "\n",
      "    accuracy                           0.78      6930\n",
      "   macro avg       0.60      0.50      0.45      6930\n",
      "weighted avg       0.70      0.78      0.69      6930\n",
      "\n"
     ]
    }
   ],
   "source": [
    "prediction = SVM_Model.predict(X_test)\n",
    "target_names = ['Not Default', 'Default']\n",
    "print(classification_report(y_test, prediction, target_names=target_names))"
   ]
  },
  {
   "cell_type": "code",
   "execution_count": 56,
   "metadata": {},
   "outputs": [],
   "source": [
    "##finalprediction\n",
    "ID_test = test_data['ID'].copy()\n",
    "prediction_2 = SVM_Model.predict(test_data.copy().drop('ID', axis = 1))\n",
    "submission = pd.DataFrame({'ID':ID_test, 'default_payment_next_month':prediction_2})\n",
    "submission.to_csv('submission_svm.csv',index=False)"
   ]
  },
  {
   "cell_type": "markdown",
   "metadata": {},
   "source": [
    "## runthisbit"
   ]
  },
  {
   "cell_type": "code",
   "execution_count": 60,
   "metadata": {},
   "outputs": [],
   "source": [
    "import h2o\n",
    "from h2o.automl import H2OAutoML, get_leaderboard"
   ]
  },
  {
   "cell_type": "markdown",
   "metadata": {},
   "source": [
    "# below needs to be true"
   ]
  },
  {
   "cell_type": "code",
   "execution_count": null,
   "metadata": {},
   "outputs": [],
   "source": [
    "h2o.estimators.xgboost.H2OXGBoostEstimator.available()"
   ]
  },
  {
   "cell_type": "code",
   "execution_count": 63,
   "metadata": {},
   "outputs": [
    {
     "name": "stdout",
     "output_type": "stream",
     "text": [
      "Checking whether there is an H2O instance running at http://localhost:54321 ..... not found.\n",
      "Attempting to start a local H2O server...\n",
      "; Java HotSpot(TM) 64-Bit Server VM (build 13.0.2+8, mixed mode, sharing)\n",
      "  Starting server from C:\\ProgramData\\Anaconda3\\lib\\site-packages\\h2o\\backend\\bin\\h2o.jar\n",
      "  Ice root: C:\\Users\\guddu\\AppData\\Local\\Temp\\tmpk6oh4_hw\n",
      "  JVM stdout: C:\\Users\\guddu\\AppData\\Local\\Temp\\tmpk6oh4_hw\\h2o_guddu_started_from_python.out\n",
      "  JVM stderr: C:\\Users\\guddu\\AppData\\Local\\Temp\\tmpk6oh4_hw\\h2o_guddu_started_from_python.err\n",
      "  Server is running at http://127.0.0.1:54321\n",
      "Connecting to H2O server at http://127.0.0.1:54321 ... successful.\n"
     ]
    },
    {
     "data": {
      "text/html": [
       "<div style=\"overflow:auto\"><table style=\"width:50%\"><tr><td>H2O cluster uptime:</td>\n",
       "<td>01 secs</td></tr>\n",
       "<tr><td>H2O cluster timezone:</td>\n",
       "<td>Asia/Kolkata</td></tr>\n",
       "<tr><td>H2O data parsing timezone:</td>\n",
       "<td>UTC</td></tr>\n",
       "<tr><td>H2O cluster version:</td>\n",
       "<td>3.28.1.2</td></tr>\n",
       "<tr><td>H2O cluster version age:</td>\n",
       "<td>5 days </td></tr>\n",
       "<tr><td>H2O cluster name:</td>\n",
       "<td>H2O_from_python_guddu_0qbza0</td></tr>\n",
       "<tr><td>H2O cluster total nodes:</td>\n",
       "<td>1</td></tr>\n",
       "<tr><td>H2O cluster free memory:</td>\n",
       "<td>3.988 Gb</td></tr>\n",
       "<tr><td>H2O cluster total cores:</td>\n",
       "<td>12</td></tr>\n",
       "<tr><td>H2O cluster allowed cores:</td>\n",
       "<td>12</td></tr>\n",
       "<tr><td>H2O cluster status:</td>\n",
       "<td>accepting new members, healthy</td></tr>\n",
       "<tr><td>H2O connection url:</td>\n",
       "<td>http://127.0.0.1:54321</td></tr>\n",
       "<tr><td>H2O connection proxy:</td>\n",
       "<td>{'http': None, 'https': None}</td></tr>\n",
       "<tr><td>H2O internal security:</td>\n",
       "<td>False</td></tr>\n",
       "<tr><td>H2O API Extensions:</td>\n",
       "<td>Amazon S3, Algos, AutoML, Core V3, TargetEncoder, Core V4</td></tr>\n",
       "<tr><td>Python version:</td>\n",
       "<td>3.7.4 final</td></tr></table></div>"
      ],
      "text/plain": [
       "--------------------------  ---------------------------------------------------------\n",
       "H2O cluster uptime:         01 secs\n",
       "H2O cluster timezone:       Asia/Kolkata\n",
       "H2O data parsing timezone:  UTC\n",
       "H2O cluster version:        3.28.1.2\n",
       "H2O cluster version age:    5 days\n",
       "H2O cluster name:           H2O_from_python_guddu_0qbza0\n",
       "H2O cluster total nodes:    1\n",
       "H2O cluster free memory:    3.988 Gb\n",
       "H2O cluster total cores:    12\n",
       "H2O cluster allowed cores:  12\n",
       "H2O cluster status:         accepting new members, healthy\n",
       "H2O connection url:         http://127.0.0.1:54321\n",
       "H2O connection proxy:       {'http': None, 'https': None}\n",
       "H2O internal security:      False\n",
       "H2O API Extensions:         Amazon S3, Algos, AutoML, Core V3, TargetEncoder, Core V4\n",
       "Python version:             3.7.4 final\n",
       "--------------------------  ---------------------------------------------------------"
      ]
     },
     "metadata": {},
     "output_type": "display_data"
    },
    {
     "name": "stdout",
     "output_type": "stream",
     "text": [
      "Parse progress: |█████████████████████████████████████████████████████████| 100%\n",
      "Parse progress: |█████████████████████████████████████████████████████████| 100%\n"
     ]
    }
   ],
   "source": [
    "h2o.init()\n",
    "\n",
    "# Import a sample binary outcome train/test set into H2O\n",
    "train_h2o = h2o.import_file(\"train_20D8GL3.csv\")\n",
    "test_h2o = h2o.import_file(\"test_O6kKpvt.csv\")"
   ]
  },
  {
   "cell_type": "code",
   "execution_count": 65,
   "metadata": {},
   "outputs": [],
   "source": [
    "x = train_h2o.columns\n",
    "y = \"default_payment_next_month\"\n",
    "z = 'ID'"
   ]
  },
  {
   "cell_type": "code",
   "execution_count": 66,
   "metadata": {},
   "outputs": [],
   "source": [
    "x.remove(y)\n",
    "x.remove(z)"
   ]
  },
  {
   "cell_type": "code",
   "execution_count": 69,
   "metadata": {},
   "outputs": [],
   "source": [
    "train_h2o[y] = train_h2o[y].asfactor()\n",
    "train_h2o[y] = train_h2o[y].asfactor()"
   ]
  },
  {
   "cell_type": "code",
   "execution_count": 70,
   "metadata": {},
   "outputs": [],
   "source": [
    "aml = H2OAutoML(max_models=30, seed=1)"
   ]
  },
  {
   "cell_type": "code",
   "execution_count": 72,
   "metadata": {},
   "outputs": [
    {
     "name": "stdout",
     "output_type": "stream",
     "text": [
      "AutoML progress: |\n",
      "16:28:48.748: AutoML: XGBoost is not available; skipping it.\n",
      "\n",
      "████████████████████████████████████████████████████████| 100%\n"
     ]
    }
   ],
   "source": [
    "aml.train(x=x, y=y, training_frame=train_h2o)"
   ]
  },
  {
   "cell_type": "code",
   "execution_count": 73,
   "metadata": {},
   "outputs": [],
   "source": [
    "lb = aml.leaderboard\n",
    "lb = get_leaderboard(aml, extra_columns='ALL')"
   ]
  },
  {
   "cell_type": "code",
   "execution_count": 74,
   "metadata": {},
   "outputs": [
    {
     "data": {
      "text/html": [
       "<table>\n",
       "<thead>\n",
       "<tr><th>model_id                                           </th><th style=\"text-align: right;\">     auc</th><th style=\"text-align: right;\">  logloss</th><th style=\"text-align: right;\">   aucpr</th><th style=\"text-align: right;\">  mean_per_class_error</th><th style=\"text-align: right;\">    rmse</th><th style=\"text-align: right;\">     mse</th><th style=\"text-align: right;\">  training_time_ms</th><th style=\"text-align: right;\">  predict_time_per_row_ms</th></tr>\n",
       "</thead>\n",
       "<tbody>\n",
       "<tr><td>StackedEnsemble_AllModels_AutoML_20200322_162848   </td><td style=\"text-align: right;\">0.786434</td><td style=\"text-align: right;\"> 0.427928</td><td style=\"text-align: right;\">0.561966</td><td style=\"text-align: right;\">              0.282571</td><td style=\"text-align: right;\">0.365854</td><td style=\"text-align: right;\">0.13385 </td><td style=\"text-align: right;\">              4500</td><td style=\"text-align: right;\">                 0.248861</td></tr>\n",
       "<tr><td>StackedEnsemble_BestOfFamily_AutoML_20200322_162848</td><td style=\"text-align: right;\">0.785586</td><td style=\"text-align: right;\"> 0.428531</td><td style=\"text-align: right;\">0.561873</td><td style=\"text-align: right;\">              0.284454</td><td style=\"text-align: right;\">0.36611 </td><td style=\"text-align: right;\">0.134037</td><td style=\"text-align: right;\">              1315</td><td style=\"text-align: right;\">                 0.052105</td></tr>\n",
       "<tr><td>GBM_grid__1_AutoML_20200322_162848_model_5         </td><td style=\"text-align: right;\">0.785181</td><td style=\"text-align: right;\"> 0.427008</td><td style=\"text-align: right;\">0.558473</td><td style=\"text-align: right;\">              0.281891</td><td style=\"text-align: right;\">0.365812</td><td style=\"text-align: right;\">0.133818</td><td style=\"text-align: right;\">               547</td><td style=\"text-align: right;\">                 0.002565</td></tr>\n",
       "<tr><td>GBM_grid__1_AutoML_20200322_162848_model_11        </td><td style=\"text-align: right;\">0.784972</td><td style=\"text-align: right;\"> 0.439622</td><td style=\"text-align: right;\">0.555125</td><td style=\"text-align: right;\">              0.284518</td><td style=\"text-align: right;\">0.371777</td><td style=\"text-align: right;\">0.138218</td><td style=\"text-align: right;\">              2004</td><td style=\"text-align: right;\">                 0.005311</td></tr>\n",
       "<tr><td>GBM_grid__1_AutoML_20200322_162848_model_6         </td><td style=\"text-align: right;\">0.78459 </td><td style=\"text-align: right;\"> 0.426175</td><td style=\"text-align: right;\">0.555853</td><td style=\"text-align: right;\">              0.290763</td><td style=\"text-align: right;\">0.365539</td><td style=\"text-align: right;\">0.133619</td><td style=\"text-align: right;\">               637</td><td style=\"text-align: right;\">                 0.003932</td></tr>\n",
       "<tr><td>GBM_grid__1_AutoML_20200322_162848_model_10        </td><td style=\"text-align: right;\">0.784564</td><td style=\"text-align: right;\"> 0.448283</td><td style=\"text-align: right;\">0.553389</td><td style=\"text-align: right;\">              0.286173</td><td style=\"text-align: right;\">0.376175</td><td style=\"text-align: right;\">0.141507</td><td style=\"text-align: right;\">              2058</td><td style=\"text-align: right;\">                 0.005771</td></tr>\n",
       "<tr><td>GBM_5_AutoML_20200322_162848                       </td><td style=\"text-align: right;\">0.783351</td><td style=\"text-align: right;\"> 0.427478</td><td style=\"text-align: right;\">0.553066</td><td style=\"text-align: right;\">              0.28446 </td><td style=\"text-align: right;\">0.366015</td><td style=\"text-align: right;\">0.133967</td><td style=\"text-align: right;\">               649</td><td style=\"text-align: right;\">                 0.002196</td></tr>\n",
       "<tr><td>GBM_1_AutoML_20200322_162848                       </td><td style=\"text-align: right;\">0.782404</td><td style=\"text-align: right;\"> 0.427596</td><td style=\"text-align: right;\">0.556852</td><td style=\"text-align: right;\">              0.289944</td><td style=\"text-align: right;\">0.366186</td><td style=\"text-align: right;\">0.134092</td><td style=\"text-align: right;\">               674</td><td style=\"text-align: right;\">                 0.002053</td></tr>\n",
       "<tr><td>GBM_2_AutoML_20200322_162848                       </td><td style=\"text-align: right;\">0.782055</td><td style=\"text-align: right;\"> 0.42877 </td><td style=\"text-align: right;\">0.550374</td><td style=\"text-align: right;\">              0.289894</td><td style=\"text-align: right;\">0.366787</td><td style=\"text-align: right;\">0.134533</td><td style=\"text-align: right;\">               463</td><td style=\"text-align: right;\">                 0.001972</td></tr>\n",
       "<tr><td>GBM_grid__1_AutoML_20200322_162848_model_8         </td><td style=\"text-align: right;\">0.781772</td><td style=\"text-align: right;\"> 0.428398</td><td style=\"text-align: right;\">0.552246</td><td style=\"text-align: right;\">              0.288206</td><td style=\"text-align: right;\">0.366533</td><td style=\"text-align: right;\">0.134347</td><td style=\"text-align: right;\">               435</td><td style=\"text-align: right;\">                 0.001989</td></tr>\n",
       "<tr><td>GBM_3_AutoML_20200322_162848                       </td><td style=\"text-align: right;\">0.78101 </td><td style=\"text-align: right;\"> 0.428568</td><td style=\"text-align: right;\">0.554558</td><td style=\"text-align: right;\">              0.287086</td><td style=\"text-align: right;\">0.366569</td><td style=\"text-align: right;\">0.134373</td><td style=\"text-align: right;\">               537</td><td style=\"text-align: right;\">                 0.001981</td></tr>\n",
       "<tr><td>GBM_4_AutoML_20200322_162848                       </td><td style=\"text-align: right;\">0.775768</td><td style=\"text-align: right;\"> 0.434468</td><td style=\"text-align: right;\">0.539979</td><td style=\"text-align: right;\">              0.292803</td><td style=\"text-align: right;\">0.369556</td><td style=\"text-align: right;\">0.136571</td><td style=\"text-align: right;\">               574</td><td style=\"text-align: right;\">                 0.001936</td></tr>\n",
       "<tr><td>DeepLearning_grid__3_AutoML_20200322_162848_model_2</td><td style=\"text-align: right;\">0.775667</td><td style=\"text-align: right;\"> 0.434439</td><td style=\"text-align: right;\">0.545655</td><td style=\"text-align: right;\">              0.29417 </td><td style=\"text-align: right;\">0.369349</td><td style=\"text-align: right;\">0.136419</td><td style=\"text-align: right;\">             63261</td><td style=\"text-align: right;\">                 0.037951</td></tr>\n",
       "<tr><td>GBM_grid__1_AutoML_20200322_162848_model_7         </td><td style=\"text-align: right;\">0.774696</td><td style=\"text-align: right;\"> 0.43501 </td><td style=\"text-align: right;\">0.54306 </td><td style=\"text-align: right;\">              0.294932</td><td style=\"text-align: right;\">0.369372</td><td style=\"text-align: right;\">0.136436</td><td style=\"text-align: right;\">               751</td><td style=\"text-align: right;\">                 0.002112</td></tr>\n",
       "<tr><td>DeepLearning_grid__2_AutoML_20200322_162848_model_2</td><td style=\"text-align: right;\">0.770579</td><td style=\"text-align: right;\"> 0.43894 </td><td style=\"text-align: right;\">0.538535</td><td style=\"text-align: right;\">              0.294471</td><td style=\"text-align: right;\">0.37038 </td><td style=\"text-align: right;\">0.137182</td><td style=\"text-align: right;\">             40717</td><td style=\"text-align: right;\">                 0.022515</td></tr>\n",
       "<tr><td>GBM_grid__1_AutoML_20200322_162848_model_4         </td><td style=\"text-align: right;\">0.769705</td><td style=\"text-align: right;\"> 0.459391</td><td style=\"text-align: right;\">0.54874 </td><td style=\"text-align: right;\">              0.291872</td><td style=\"text-align: right;\">0.38089 </td><td style=\"text-align: right;\">0.145078</td><td style=\"text-align: right;\">               829</td><td style=\"text-align: right;\">                 0.003622</td></tr>\n",
       "<tr><td>XRT_1_AutoML_20200322_162848                       </td><td style=\"text-align: right;\">0.769233</td><td style=\"text-align: right;\"> 0.437672</td><td style=\"text-align: right;\">0.539435</td><td style=\"text-align: right;\">              0.299045</td><td style=\"text-align: right;\">0.370526</td><td style=\"text-align: right;\">0.137289</td><td style=\"text-align: right;\">              1649</td><td style=\"text-align: right;\">                 0.002417</td></tr>\n",
       "<tr><td>DRF_1_AutoML_20200322_162848                       </td><td style=\"text-align: right;\">0.767718</td><td style=\"text-align: right;\"> 0.437949</td><td style=\"text-align: right;\">0.54065 </td><td style=\"text-align: right;\">              0.297715</td><td style=\"text-align: right;\">0.370295</td><td style=\"text-align: right;\">0.137118</td><td style=\"text-align: right;\">              1733</td><td style=\"text-align: right;\">                 0.002588</td></tr>\n",
       "<tr><td>DeepLearning_grid__1_AutoML_20200322_162848_model_3</td><td style=\"text-align: right;\">0.764307</td><td style=\"text-align: right;\"> 0.454397</td><td style=\"text-align: right;\">0.529074</td><td style=\"text-align: right;\">              0.29182 </td><td style=\"text-align: right;\">0.371899</td><td style=\"text-align: right;\">0.138309</td><td style=\"text-align: right;\">             57104</td><td style=\"text-align: right;\">                 0.002713</td></tr>\n",
       "<tr><td>DeepLearning_grid__1_AutoML_20200322_162848_model_2</td><td style=\"text-align: right;\">0.763362</td><td style=\"text-align: right;\"> 0.45701 </td><td style=\"text-align: right;\">0.53177 </td><td style=\"text-align: right;\">              0.294621</td><td style=\"text-align: right;\">0.371658</td><td style=\"text-align: right;\">0.13813 </td><td style=\"text-align: right;\">             42489</td><td style=\"text-align: right;\">                 0.003397</td></tr>\n",
       "<tr><td>DeepLearning_grid__2_AutoML_20200322_162848_model_3</td><td style=\"text-align: right;\">0.762986</td><td style=\"text-align: right;\"> 0.445282</td><td style=\"text-align: right;\">0.527759</td><td style=\"text-align: right;\">              0.300915</td><td style=\"text-align: right;\">0.372802</td><td style=\"text-align: right;\">0.138981</td><td style=\"text-align: right;\">             41021</td><td style=\"text-align: right;\">                 0.0194  </td></tr>\n",
       "<tr><td>DeepLearning_grid__3_AutoML_20200322_162848_model_3</td><td style=\"text-align: right;\">0.762372</td><td style=\"text-align: right;\"> 0.441894</td><td style=\"text-align: right;\">0.533546</td><td style=\"text-align: right;\">              0.300735</td><td style=\"text-align: right;\">0.371556</td><td style=\"text-align: right;\">0.138054</td><td style=\"text-align: right;\">             50690</td><td style=\"text-align: right;\">                 0.037803</td></tr>\n",
       "<tr><td>DeepLearning_grid__1_AutoML_20200322_162848_model_1</td><td style=\"text-align: right;\">0.759155</td><td style=\"text-align: right;\"> 0.446627</td><td style=\"text-align: right;\">0.525593</td><td style=\"text-align: right;\">              0.303359</td><td style=\"text-align: right;\">0.372569</td><td style=\"text-align: right;\">0.138808</td><td style=\"text-align: right;\">             33319</td><td style=\"text-align: right;\">                 0.003131</td></tr>\n",
       "<tr><td>DeepLearning_1_AutoML_20200322_162848              </td><td style=\"text-align: right;\">0.758963</td><td style=\"text-align: right;\"> 0.444776</td><td style=\"text-align: right;\">0.521713</td><td style=\"text-align: right;\">              0.306871</td><td style=\"text-align: right;\">0.373026</td><td style=\"text-align: right;\">0.139148</td><td style=\"text-align: right;\">               502</td><td style=\"text-align: right;\">                 0.001365</td></tr>\n",
       "<tr><td>DeepLearning_grid__1_AutoML_20200322_162848_model_4</td><td style=\"text-align: right;\">0.757437</td><td style=\"text-align: right;\"> 0.469247</td><td style=\"text-align: right;\">0.523925</td><td style=\"text-align: right;\">              0.295711</td><td style=\"text-align: right;\">0.374475</td><td style=\"text-align: right;\">0.140231</td><td style=\"text-align: right;\">             77794</td><td style=\"text-align: right;\">                 0.003699</td></tr>\n",
       "<tr><td>DeepLearning_grid__3_AutoML_20200322_162848_model_1</td><td style=\"text-align: right;\">0.754898</td><td style=\"text-align: right;\"> 0.45392 </td><td style=\"text-align: right;\">0.520875</td><td style=\"text-align: right;\">              0.298997</td><td style=\"text-align: right;\">0.37384 </td><td style=\"text-align: right;\">0.139757</td><td style=\"text-align: right;\">             69968</td><td style=\"text-align: right;\">                 0.037854</td></tr>\n",
       "<tr><td>DeepLearning_grid__2_AutoML_20200322_162848_model_1</td><td style=\"text-align: right;\">0.753071</td><td style=\"text-align: right;\"> 0.459668</td><td style=\"text-align: right;\">0.518966</td><td style=\"text-align: right;\">              0.306103</td><td style=\"text-align: right;\">0.374547</td><td style=\"text-align: right;\">0.140286</td><td style=\"text-align: right;\">             64850</td><td style=\"text-align: right;\">                 0.018369</td></tr>\n",
       "<tr><td>GBM_grid__1_AutoML_20200322_162848_model_3         </td><td style=\"text-align: right;\">0.751631</td><td style=\"text-align: right;\"> 0.467617</td><td style=\"text-align: right;\">0.506528</td><td style=\"text-align: right;\">              0.315105</td><td style=\"text-align: right;\">0.381011</td><td style=\"text-align: right;\">0.14517 </td><td style=\"text-align: right;\">               404</td><td style=\"text-align: right;\">                 0.001526</td></tr>\n",
       "<tr><td>GBM_grid__1_AutoML_20200322_162848_model_2         </td><td style=\"text-align: right;\">0.750506</td><td style=\"text-align: right;\"> 0.523237</td><td style=\"text-align: right;\">0.518763</td><td style=\"text-align: right;\">              0.298631</td><td style=\"text-align: right;\">0.41287 </td><td style=\"text-align: right;\">0.170462</td><td style=\"text-align: right;\">               828</td><td style=\"text-align: right;\">                 0.001841</td></tr>\n",
       "<tr><td>GLM_1_AutoML_20200322_162848                       </td><td style=\"text-align: right;\">0.726295</td><td style=\"text-align: right;\"> 0.464095</td><td style=\"text-align: right;\">0.502711</td><td style=\"text-align: right;\">              0.31463 </td><td style=\"text-align: right;\">0.380543</td><td style=\"text-align: right;\">0.144813</td><td style=\"text-align: right;\">               261</td><td style=\"text-align: right;\">                 0.000834</td></tr>\n",
       "<tr><td>GBM_grid__1_AutoML_20200322_162848_model_9         </td><td style=\"text-align: right;\">0.724328</td><td style=\"text-align: right;\"> 0.523539</td><td style=\"text-align: right;\">0.501866</td><td style=\"text-align: right;\">              0.307817</td><td style=\"text-align: right;\">0.412993</td><td style=\"text-align: right;\">0.170564</td><td style=\"text-align: right;\">               117</td><td style=\"text-align: right;\">                 0.000889</td></tr>\n",
       "<tr><td>GBM_grid__1_AutoML_20200322_162848_model_1         </td><td style=\"text-align: right;\">0.711408</td><td style=\"text-align: right;\"> 0.685267</td><td style=\"text-align: right;\">0.401556</td><td style=\"text-align: right;\">              0.336256</td><td style=\"text-align: right;\">0.421243</td><td style=\"text-align: right;\">0.177446</td><td style=\"text-align: right;\">               223</td><td style=\"text-align: right;\">                 0.00134 </td></tr>\n",
       "</tbody>\n",
       "</table>"
      ]
     },
     "metadata": {},
     "output_type": "display_data"
    },
    {
     "data": {
      "text/plain": []
     },
     "execution_count": 74,
     "metadata": {},
     "output_type": "execute_result"
    }
   ],
   "source": [
    "lb.head(rows=lb.nrows)"
   ]
  },
  {
   "cell_type": "code",
   "execution_count": 93,
   "metadata": {},
   "outputs": [
    {
     "name": "stdout",
     "output_type": "stream",
     "text": [
      "Cannot build an XGBoost model - no backend found.\n"
     ]
    },
    {
     "data": {
      "text/plain": [
       "False"
      ]
     },
     "execution_count": 93,
     "metadata": {},
     "output_type": "execute_result"
    }
   ],
   "source": [
    "h2o.estimators.xgboost.H2OXGBoostEstimator.available()"
   ]
  },
  {
   "cell_type": "code",
   "execution_count": 75,
   "metadata": {},
   "outputs": [
    {
     "name": "stdout",
     "output_type": "stream",
     "text": [
      "Model Details\n",
      "=============\n",
      "H2OStackedEnsembleEstimator :  Stacked Ensemble\n",
      "Model Key:  StackedEnsemble_AllModels_AutoML_20200322_162848\n",
      "\n",
      "No model summary for this model\n",
      "\n",
      "ModelMetricsBinomialGLM: stackedensemble\n",
      "** Reported on train data. **\n",
      "\n",
      "MSE: 0.11396521935112756\n",
      "RMSE: 0.33758735069775286\n",
      "LogLoss: 0.3738224574431408\n",
      "Null degrees of freedom: 20999\n",
      "Residual degrees of freedom: 20987\n",
      "Null deviance: 22193.244485040042\n",
      "Residual deviance: 15700.543212611916\n",
      "AIC: 15726.543212611916\n",
      "AUC: 0.873272398370519\n",
      "AUCPR: 0.707713123243891\n",
      "Gini: 0.7465447967410379\n",
      "\n",
      "Confusion Matrix (Act/Pred) for max f1 @ threshold = 0.23693323999826083: \n"
     ]
    },
    {
     "data": {
      "text/html": [
       "<div>\n",
       "<style scoped>\n",
       "    .dataframe tbody tr th:only-of-type {\n",
       "        vertical-align: middle;\n",
       "    }\n",
       "\n",
       "    .dataframe tbody tr th {\n",
       "        vertical-align: top;\n",
       "    }\n",
       "\n",
       "    .dataframe thead th {\n",
       "        text-align: right;\n",
       "    }\n",
       "</style>\n",
       "<table border=\"1\" class=\"dataframe\">\n",
       "  <thead>\n",
       "    <tr style=\"text-align: right;\">\n",
       "      <th></th>\n",
       "      <th></th>\n",
       "      <th>0</th>\n",
       "      <th>1</th>\n",
       "      <th>Error</th>\n",
       "      <th>Rate</th>\n",
       "    </tr>\n",
       "  </thead>\n",
       "  <tbody>\n",
       "    <tr>\n",
       "      <td>0</td>\n",
       "      <td>0</td>\n",
       "      <td>14143.0</td>\n",
       "      <td>2212.0</td>\n",
       "      <td>0.1352</td>\n",
       "      <td>(2212.0/16355.0)</td>\n",
       "    </tr>\n",
       "    <tr>\n",
       "      <td>1</td>\n",
       "      <td>1</td>\n",
       "      <td>1545.0</td>\n",
       "      <td>3100.0</td>\n",
       "      <td>0.3326</td>\n",
       "      <td>(1545.0/4645.0)</td>\n",
       "    </tr>\n",
       "    <tr>\n",
       "      <td>2</td>\n",
       "      <td>Total</td>\n",
       "      <td>15688.0</td>\n",
       "      <td>5312.0</td>\n",
       "      <td>0.1789</td>\n",
       "      <td>(3757.0/21000.0)</td>\n",
       "    </tr>\n",
       "  </tbody>\n",
       "</table>\n",
       "</div>"
      ],
      "text/plain": [
       "                0       1   Error               Rate\n",
       "0      0  14143.0  2212.0  0.1352   (2212.0/16355.0)\n",
       "1      1   1545.0  3100.0  0.3326    (1545.0/4645.0)\n",
       "2  Total  15688.0  5312.0  0.1789   (3757.0/21000.0)"
      ]
     },
     "metadata": {},
     "output_type": "display_data"
    },
    {
     "name": "stdout",
     "output_type": "stream",
     "text": [
      "\n",
      "Maximum Metrics: Maximum metrics at their respective thresholds\n"
     ]
    },
    {
     "data": {
      "text/html": [
       "<div>\n",
       "<style scoped>\n",
       "    .dataframe tbody tr th:only-of-type {\n",
       "        vertical-align: middle;\n",
       "    }\n",
       "\n",
       "    .dataframe tbody tr th {\n",
       "        vertical-align: top;\n",
       "    }\n",
       "\n",
       "    .dataframe thead th {\n",
       "        text-align: right;\n",
       "    }\n",
       "</style>\n",
       "<table border=\"1\" class=\"dataframe\">\n",
       "  <thead>\n",
       "    <tr style=\"text-align: right;\">\n",
       "      <th></th>\n",
       "      <th>metric</th>\n",
       "      <th>threshold</th>\n",
       "      <th>value</th>\n",
       "      <th>idx</th>\n",
       "    </tr>\n",
       "  </thead>\n",
       "  <tbody>\n",
       "    <tr>\n",
       "      <td>0</td>\n",
       "      <td>max f1</td>\n",
       "      <td>0.236933</td>\n",
       "      <td>0.622678</td>\n",
       "      <td>252.0</td>\n",
       "    </tr>\n",
       "    <tr>\n",
       "      <td>1</td>\n",
       "      <td>max f2</td>\n",
       "      <td>0.143114</td>\n",
       "      <td>0.730296</td>\n",
       "      <td>322.0</td>\n",
       "    </tr>\n",
       "    <tr>\n",
       "      <td>2</td>\n",
       "      <td>max f0point5</td>\n",
       "      <td>0.556411</td>\n",
       "      <td>0.665479</td>\n",
       "      <td>120.0</td>\n",
       "    </tr>\n",
       "    <tr>\n",
       "      <td>3</td>\n",
       "      <td>max accuracy</td>\n",
       "      <td>0.465987</td>\n",
       "      <td>0.845810</td>\n",
       "      <td>150.0</td>\n",
       "    </tr>\n",
       "    <tr>\n",
       "      <td>4</td>\n",
       "      <td>max precision</td>\n",
       "      <td>0.890283</td>\n",
       "      <td>1.000000</td>\n",
       "      <td>0.0</td>\n",
       "    </tr>\n",
       "    <tr>\n",
       "      <td>5</td>\n",
       "      <td>max recall</td>\n",
       "      <td>0.088251</td>\n",
       "      <td>1.000000</td>\n",
       "      <td>384.0</td>\n",
       "    </tr>\n",
       "    <tr>\n",
       "      <td>6</td>\n",
       "      <td>max specificity</td>\n",
       "      <td>0.890283</td>\n",
       "      <td>1.000000</td>\n",
       "      <td>0.0</td>\n",
       "    </tr>\n",
       "    <tr>\n",
       "      <td>7</td>\n",
       "      <td>max absolute_mcc</td>\n",
       "      <td>0.283571</td>\n",
       "      <td>0.511335</td>\n",
       "      <td>225.0</td>\n",
       "    </tr>\n",
       "    <tr>\n",
       "      <td>8</td>\n",
       "      <td>max min_per_class_accuracy</td>\n",
       "      <td>0.182493</td>\n",
       "      <td>0.783308</td>\n",
       "      <td>288.0</td>\n",
       "    </tr>\n",
       "    <tr>\n",
       "      <td>9</td>\n",
       "      <td>max mean_per_class_accuracy</td>\n",
       "      <td>0.167275</td>\n",
       "      <td>0.783810</td>\n",
       "      <td>300.0</td>\n",
       "    </tr>\n",
       "    <tr>\n",
       "      <td>10</td>\n",
       "      <td>max tns</td>\n",
       "      <td>0.890283</td>\n",
       "      <td>16355.000000</td>\n",
       "      <td>0.0</td>\n",
       "    </tr>\n",
       "    <tr>\n",
       "      <td>11</td>\n",
       "      <td>max fns</td>\n",
       "      <td>0.890283</td>\n",
       "      <td>4640.000000</td>\n",
       "      <td>0.0</td>\n",
       "    </tr>\n",
       "    <tr>\n",
       "      <td>12</td>\n",
       "      <td>max fps</td>\n",
       "      <td>0.073878</td>\n",
       "      <td>16355.000000</td>\n",
       "      <td>399.0</td>\n",
       "    </tr>\n",
       "    <tr>\n",
       "      <td>13</td>\n",
       "      <td>max tps</td>\n",
       "      <td>0.088251</td>\n",
       "      <td>4645.000000</td>\n",
       "      <td>384.0</td>\n",
       "    </tr>\n",
       "    <tr>\n",
       "      <td>14</td>\n",
       "      <td>max tnr</td>\n",
       "      <td>0.890283</td>\n",
       "      <td>1.000000</td>\n",
       "      <td>0.0</td>\n",
       "    </tr>\n",
       "    <tr>\n",
       "      <td>15</td>\n",
       "      <td>max fnr</td>\n",
       "      <td>0.890283</td>\n",
       "      <td>0.998924</td>\n",
       "      <td>0.0</td>\n",
       "    </tr>\n",
       "    <tr>\n",
       "      <td>16</td>\n",
       "      <td>max fpr</td>\n",
       "      <td>0.073878</td>\n",
       "      <td>1.000000</td>\n",
       "      <td>399.0</td>\n",
       "    </tr>\n",
       "    <tr>\n",
       "      <td>17</td>\n",
       "      <td>max tpr</td>\n",
       "      <td>0.088251</td>\n",
       "      <td>1.000000</td>\n",
       "      <td>384.0</td>\n",
       "    </tr>\n",
       "  </tbody>\n",
       "</table>\n",
       "</div>"
      ],
      "text/plain": [
       "                         metric  threshold         value    idx\n",
       "0                        max f1   0.236933      0.622678  252.0\n",
       "1                        max f2   0.143114      0.730296  322.0\n",
       "2                  max f0point5   0.556411      0.665479  120.0\n",
       "3                  max accuracy   0.465987      0.845810  150.0\n",
       "4                 max precision   0.890283      1.000000    0.0\n",
       "5                    max recall   0.088251      1.000000  384.0\n",
       "6               max specificity   0.890283      1.000000    0.0\n",
       "7              max absolute_mcc   0.283571      0.511335  225.0\n",
       "8    max min_per_class_accuracy   0.182493      0.783308  288.0\n",
       "9   max mean_per_class_accuracy   0.167275      0.783810  300.0\n",
       "10                      max tns   0.890283  16355.000000    0.0\n",
       "11                      max fns   0.890283   4640.000000    0.0\n",
       "12                      max fps   0.073878  16355.000000  399.0\n",
       "13                      max tps   0.088251   4645.000000  384.0\n",
       "14                      max tnr   0.890283      1.000000    0.0\n",
       "15                      max fnr   0.890283      0.998924    0.0\n",
       "16                      max fpr   0.073878      1.000000  399.0\n",
       "17                      max tpr   0.088251      1.000000  384.0"
      ]
     },
     "metadata": {},
     "output_type": "display_data"
    },
    {
     "name": "stdout",
     "output_type": "stream",
     "text": [
      "\n",
      "Gains/Lift Table: Avg response rate: 22.12 %, avg score: 22.66 %\n"
     ]
    },
    {
     "data": {
      "text/html": [
       "<div>\n",
       "<style scoped>\n",
       "    .dataframe tbody tr th:only-of-type {\n",
       "        vertical-align: middle;\n",
       "    }\n",
       "\n",
       "    .dataframe tbody tr th {\n",
       "        vertical-align: top;\n",
       "    }\n",
       "\n",
       "    .dataframe thead th {\n",
       "        text-align: right;\n",
       "    }\n",
       "</style>\n",
       "<table border=\"1\" class=\"dataframe\">\n",
       "  <thead>\n",
       "    <tr style=\"text-align: right;\">\n",
       "      <th></th>\n",
       "      <th></th>\n",
       "      <th>group</th>\n",
       "      <th>cumulative_data_fraction</th>\n",
       "      <th>lower_threshold</th>\n",
       "      <th>lift</th>\n",
       "      <th>cumulative_lift</th>\n",
       "      <th>response_rate</th>\n",
       "      <th>score</th>\n",
       "      <th>cumulative_response_rate</th>\n",
       "      <th>cumulative_score</th>\n",
       "      <th>capture_rate</th>\n",
       "      <th>cumulative_capture_rate</th>\n",
       "      <th>gain</th>\n",
       "      <th>cumulative_gain</th>\n",
       "    </tr>\n",
       "  </thead>\n",
       "  <tbody>\n",
       "    <tr>\n",
       "      <td>0</td>\n",
       "      <td></td>\n",
       "      <td>1</td>\n",
       "      <td>0.01</td>\n",
       "      <td>0.834592</td>\n",
       "      <td>4.499462</td>\n",
       "      <td>4.499462</td>\n",
       "      <td>0.995238</td>\n",
       "      <td>0.853438</td>\n",
       "      <td>0.995238</td>\n",
       "      <td>0.853438</td>\n",
       "      <td>0.044995</td>\n",
       "      <td>0.044995</td>\n",
       "      <td>349.946179</td>\n",
       "      <td>349.946179</td>\n",
       "    </tr>\n",
       "    <tr>\n",
       "      <td>1</td>\n",
       "      <td></td>\n",
       "      <td>2</td>\n",
       "      <td>0.02</td>\n",
       "      <td>0.812696</td>\n",
       "      <td>4.477933</td>\n",
       "      <td>4.488698</td>\n",
       "      <td>0.990476</td>\n",
       "      <td>0.823058</td>\n",
       "      <td>0.992857</td>\n",
       "      <td>0.838248</td>\n",
       "      <td>0.044779</td>\n",
       "      <td>0.089774</td>\n",
       "      <td>347.793326</td>\n",
       "      <td>348.869752</td>\n",
       "    </tr>\n",
       "    <tr>\n",
       "      <td>2</td>\n",
       "      <td></td>\n",
       "      <td>3</td>\n",
       "      <td>0.03</td>\n",
       "      <td>0.792323</td>\n",
       "      <td>4.305705</td>\n",
       "      <td>4.427700</td>\n",
       "      <td>0.952381</td>\n",
       "      <td>0.802031</td>\n",
       "      <td>0.979365</td>\n",
       "      <td>0.826176</td>\n",
       "      <td>0.043057</td>\n",
       "      <td>0.132831</td>\n",
       "      <td>330.570506</td>\n",
       "      <td>342.770004</td>\n",
       "    </tr>\n",
       "    <tr>\n",
       "      <td>3</td>\n",
       "      <td></td>\n",
       "      <td>4</td>\n",
       "      <td>0.04</td>\n",
       "      <td>0.771108</td>\n",
       "      <td>4.004306</td>\n",
       "      <td>4.321851</td>\n",
       "      <td>0.885714</td>\n",
       "      <td>0.782070</td>\n",
       "      <td>0.955952</td>\n",
       "      <td>0.815149</td>\n",
       "      <td>0.040043</td>\n",
       "      <td>0.172874</td>\n",
       "      <td>300.430571</td>\n",
       "      <td>332.185145</td>\n",
       "    </tr>\n",
       "    <tr>\n",
       "      <td>4</td>\n",
       "      <td></td>\n",
       "      <td>5</td>\n",
       "      <td>0.05</td>\n",
       "      <td>0.743689</td>\n",
       "      <td>4.047363</td>\n",
       "      <td>4.266954</td>\n",
       "      <td>0.895238</td>\n",
       "      <td>0.757257</td>\n",
       "      <td>0.943810</td>\n",
       "      <td>0.803571</td>\n",
       "      <td>0.040474</td>\n",
       "      <td>0.213348</td>\n",
       "      <td>304.736276</td>\n",
       "      <td>326.695371</td>\n",
       "    </tr>\n",
       "    <tr>\n",
       "      <td>5</td>\n",
       "      <td></td>\n",
       "      <td>6</td>\n",
       "      <td>0.10</td>\n",
       "      <td>0.586568</td>\n",
       "      <td>3.168999</td>\n",
       "      <td>3.717976</td>\n",
       "      <td>0.700952</td>\n",
       "      <td>0.672245</td>\n",
       "      <td>0.822381</td>\n",
       "      <td>0.737908</td>\n",
       "      <td>0.158450</td>\n",
       "      <td>0.371798</td>\n",
       "      <td>216.899892</td>\n",
       "      <td>271.797632</td>\n",
       "    </tr>\n",
       "    <tr>\n",
       "      <td>6</td>\n",
       "      <td></td>\n",
       "      <td>7</td>\n",
       "      <td>0.15</td>\n",
       "      <td>0.402365</td>\n",
       "      <td>2.312164</td>\n",
       "      <td>3.249372</td>\n",
       "      <td>0.511429</td>\n",
       "      <td>0.490487</td>\n",
       "      <td>0.718730</td>\n",
       "      <td>0.655434</td>\n",
       "      <td>0.115608</td>\n",
       "      <td>0.487406</td>\n",
       "      <td>131.216362</td>\n",
       "      <td>224.937208</td>\n",
       "    </tr>\n",
       "    <tr>\n",
       "      <td>7</td>\n",
       "      <td></td>\n",
       "      <td>8</td>\n",
       "      <td>0.20</td>\n",
       "      <td>0.297418</td>\n",
       "      <td>1.903122</td>\n",
       "      <td>2.912809</td>\n",
       "      <td>0.420952</td>\n",
       "      <td>0.345161</td>\n",
       "      <td>0.644286</td>\n",
       "      <td>0.577866</td>\n",
       "      <td>0.095156</td>\n",
       "      <td>0.582562</td>\n",
       "      <td>90.312164</td>\n",
       "      <td>191.280947</td>\n",
       "    </tr>\n",
       "    <tr>\n",
       "      <td>8</td>\n",
       "      <td></td>\n",
       "      <td>9</td>\n",
       "      <td>0.30</td>\n",
       "      <td>0.201393</td>\n",
       "      <td>1.491927</td>\n",
       "      <td>2.439182</td>\n",
       "      <td>0.330000</td>\n",
       "      <td>0.241935</td>\n",
       "      <td>0.539524</td>\n",
       "      <td>0.465889</td>\n",
       "      <td>0.149193</td>\n",
       "      <td>0.731755</td>\n",
       "      <td>49.192680</td>\n",
       "      <td>143.918192</td>\n",
       "    </tr>\n",
       "    <tr>\n",
       "      <td>9</td>\n",
       "      <td></td>\n",
       "      <td>10</td>\n",
       "      <td>0.40</td>\n",
       "      <td>0.163108</td>\n",
       "      <td>1.091496</td>\n",
       "      <td>2.102260</td>\n",
       "      <td>0.241429</td>\n",
       "      <td>0.180146</td>\n",
       "      <td>0.465000</td>\n",
       "      <td>0.394453</td>\n",
       "      <td>0.109150</td>\n",
       "      <td>0.840904</td>\n",
       "      <td>9.149623</td>\n",
       "      <td>110.226050</td>\n",
       "    </tr>\n",
       "    <tr>\n",
       "      <td>10</td>\n",
       "      <td></td>\n",
       "      <td>11</td>\n",
       "      <td>0.50</td>\n",
       "      <td>0.140840</td>\n",
       "      <td>0.714747</td>\n",
       "      <td>1.824758</td>\n",
       "      <td>0.158095</td>\n",
       "      <td>0.151280</td>\n",
       "      <td>0.403619</td>\n",
       "      <td>0.345819</td>\n",
       "      <td>0.071475</td>\n",
       "      <td>0.912379</td>\n",
       "      <td>-28.525296</td>\n",
       "      <td>82.475780</td>\n",
       "    </tr>\n",
       "    <tr>\n",
       "      <td>11</td>\n",
       "      <td></td>\n",
       "      <td>12</td>\n",
       "      <td>0.60</td>\n",
       "      <td>0.125196</td>\n",
       "      <td>0.430571</td>\n",
       "      <td>1.592393</td>\n",
       "      <td>0.095238</td>\n",
       "      <td>0.132670</td>\n",
       "      <td>0.352222</td>\n",
       "      <td>0.310294</td>\n",
       "      <td>0.043057</td>\n",
       "      <td>0.955436</td>\n",
       "      <td>-56.942949</td>\n",
       "      <td>59.239325</td>\n",
       "    </tr>\n",
       "    <tr>\n",
       "      <td>12</td>\n",
       "      <td></td>\n",
       "      <td>13</td>\n",
       "      <td>0.70</td>\n",
       "      <td>0.112357</td>\n",
       "      <td>0.264801</td>\n",
       "      <td>1.402737</td>\n",
       "      <td>0.058571</td>\n",
       "      <td>0.118533</td>\n",
       "      <td>0.310272</td>\n",
       "      <td>0.282899</td>\n",
       "      <td>0.026480</td>\n",
       "      <td>0.981916</td>\n",
       "      <td>-73.519914</td>\n",
       "      <td>40.273720</td>\n",
       "    </tr>\n",
       "    <tr>\n",
       "      <td>13</td>\n",
       "      <td></td>\n",
       "      <td>14</td>\n",
       "      <td>0.80</td>\n",
       "      <td>0.100910</td>\n",
       "      <td>0.118407</td>\n",
       "      <td>1.242196</td>\n",
       "      <td>0.026190</td>\n",
       "      <td>0.106649</td>\n",
       "      <td>0.274762</td>\n",
       "      <td>0.260868</td>\n",
       "      <td>0.011841</td>\n",
       "      <td>0.993757</td>\n",
       "      <td>-88.159311</td>\n",
       "      <td>24.219591</td>\n",
       "    </tr>\n",
       "    <tr>\n",
       "      <td>14</td>\n",
       "      <td></td>\n",
       "      <td>15</td>\n",
       "      <td>0.90</td>\n",
       "      <td>0.089652</td>\n",
       "      <td>0.055974</td>\n",
       "      <td>1.110393</td>\n",
       "      <td>0.012381</td>\n",
       "      <td>0.095145</td>\n",
       "      <td>0.245608</td>\n",
       "      <td>0.242455</td>\n",
       "      <td>0.005597</td>\n",
       "      <td>0.999354</td>\n",
       "      <td>-94.402583</td>\n",
       "      <td>11.039349</td>\n",
       "    </tr>\n",
       "    <tr>\n",
       "      <td>15</td>\n",
       "      <td></td>\n",
       "      <td>16</td>\n",
       "      <td>1.00</td>\n",
       "      <td>0.071280</td>\n",
       "      <td>0.006459</td>\n",
       "      <td>1.000000</td>\n",
       "      <td>0.001429</td>\n",
       "      <td>0.083584</td>\n",
       "      <td>0.221190</td>\n",
       "      <td>0.226567</td>\n",
       "      <td>0.000646</td>\n",
       "      <td>1.000000</td>\n",
       "      <td>-99.354144</td>\n",
       "      <td>0.000000</td>\n",
       "    </tr>\n",
       "  </tbody>\n",
       "</table>\n",
       "</div>"
      ],
      "text/plain": [
       "      group  cumulative_data_fraction  lower_threshold      lift  \\\n",
       "0         1                      0.01         0.834592  4.499462   \n",
       "1         2                      0.02         0.812696  4.477933   \n",
       "2         3                      0.03         0.792323  4.305705   \n",
       "3         4                      0.04         0.771108  4.004306   \n",
       "4         5                      0.05         0.743689  4.047363   \n",
       "5         6                      0.10         0.586568  3.168999   \n",
       "6         7                      0.15         0.402365  2.312164   \n",
       "7         8                      0.20         0.297418  1.903122   \n",
       "8         9                      0.30         0.201393  1.491927   \n",
       "9        10                      0.40         0.163108  1.091496   \n",
       "10       11                      0.50         0.140840  0.714747   \n",
       "11       12                      0.60         0.125196  0.430571   \n",
       "12       13                      0.70         0.112357  0.264801   \n",
       "13       14                      0.80         0.100910  0.118407   \n",
       "14       15                      0.90         0.089652  0.055974   \n",
       "15       16                      1.00         0.071280  0.006459   \n",
       "\n",
       "    cumulative_lift  response_rate     score  cumulative_response_rate  \\\n",
       "0          4.499462       0.995238  0.853438                  0.995238   \n",
       "1          4.488698       0.990476  0.823058                  0.992857   \n",
       "2          4.427700       0.952381  0.802031                  0.979365   \n",
       "3          4.321851       0.885714  0.782070                  0.955952   \n",
       "4          4.266954       0.895238  0.757257                  0.943810   \n",
       "5          3.717976       0.700952  0.672245                  0.822381   \n",
       "6          3.249372       0.511429  0.490487                  0.718730   \n",
       "7          2.912809       0.420952  0.345161                  0.644286   \n",
       "8          2.439182       0.330000  0.241935                  0.539524   \n",
       "9          2.102260       0.241429  0.180146                  0.465000   \n",
       "10         1.824758       0.158095  0.151280                  0.403619   \n",
       "11         1.592393       0.095238  0.132670                  0.352222   \n",
       "12         1.402737       0.058571  0.118533                  0.310272   \n",
       "13         1.242196       0.026190  0.106649                  0.274762   \n",
       "14         1.110393       0.012381  0.095145                  0.245608   \n",
       "15         1.000000       0.001429  0.083584                  0.221190   \n",
       "\n",
       "    cumulative_score  capture_rate  cumulative_capture_rate        gain  \\\n",
       "0           0.853438      0.044995                 0.044995  349.946179   \n",
       "1           0.838248      0.044779                 0.089774  347.793326   \n",
       "2           0.826176      0.043057                 0.132831  330.570506   \n",
       "3           0.815149      0.040043                 0.172874  300.430571   \n",
       "4           0.803571      0.040474                 0.213348  304.736276   \n",
       "5           0.737908      0.158450                 0.371798  216.899892   \n",
       "6           0.655434      0.115608                 0.487406  131.216362   \n",
       "7           0.577866      0.095156                 0.582562   90.312164   \n",
       "8           0.465889      0.149193                 0.731755   49.192680   \n",
       "9           0.394453      0.109150                 0.840904    9.149623   \n",
       "10          0.345819      0.071475                 0.912379  -28.525296   \n",
       "11          0.310294      0.043057                 0.955436  -56.942949   \n",
       "12          0.282899      0.026480                 0.981916  -73.519914   \n",
       "13          0.260868      0.011841                 0.993757  -88.159311   \n",
       "14          0.242455      0.005597                 0.999354  -94.402583   \n",
       "15          0.226567      0.000646                 1.000000  -99.354144   \n",
       "\n",
       "    cumulative_gain  \n",
       "0        349.946179  \n",
       "1        348.869752  \n",
       "2        342.770004  \n",
       "3        332.185145  \n",
       "4        326.695371  \n",
       "5        271.797632  \n",
       "6        224.937208  \n",
       "7        191.280947  \n",
       "8        143.918192  \n",
       "9        110.226050  \n",
       "10        82.475780  \n",
       "11        59.239325  \n",
       "12        40.273720  \n",
       "13        24.219591  \n",
       "14        11.039349  \n",
       "15         0.000000  "
      ]
     },
     "metadata": {},
     "output_type": "display_data"
    },
    {
     "name": "stdout",
     "output_type": "stream",
     "text": [
      "\n",
      "\n",
      "ModelMetricsBinomialGLM: stackedensemble\n",
      "** Reported on cross-validation data. **\n",
      "\n",
      "MSE: 0.13384951156660962\n",
      "RMSE: 0.3658544950750361\n",
      "LogLoss: 0.42792823187691204\n",
      "Null degrees of freedom: 20999\n",
      "Residual degrees of freedom: 20988\n",
      "Null deviance: 22197.507067694223\n",
      "Residual deviance: 17972.985738830306\n",
      "AIC: 17996.985738830306\n",
      "AUC: 0.7864337448280696\n",
      "AUCPR: 0.5619656032261588\n",
      "Gini: 0.5728674896561392\n",
      "\n",
      "Confusion Matrix (Act/Pred) for max f1 @ threshold = 0.2204189522886668: \n"
     ]
    },
    {
     "data": {
      "text/html": [
       "<div>\n",
       "<style scoped>\n",
       "    .dataframe tbody tr th:only-of-type {\n",
       "        vertical-align: middle;\n",
       "    }\n",
       "\n",
       "    .dataframe tbody tr th {\n",
       "        vertical-align: top;\n",
       "    }\n",
       "\n",
       "    .dataframe thead th {\n",
       "        text-align: right;\n",
       "    }\n",
       "</style>\n",
       "<table border=\"1\" class=\"dataframe\">\n",
       "  <thead>\n",
       "    <tr style=\"text-align: right;\">\n",
       "      <th></th>\n",
       "      <th></th>\n",
       "      <th>0</th>\n",
       "      <th>1</th>\n",
       "      <th>Error</th>\n",
       "      <th>Rate</th>\n",
       "    </tr>\n",
       "  </thead>\n",
       "  <tbody>\n",
       "    <tr>\n",
       "      <td>0</td>\n",
       "      <td>0</td>\n",
       "      <td>13721.0</td>\n",
       "      <td>2634.0</td>\n",
       "      <td>0.1611</td>\n",
       "      <td>(2634.0/16355.0)</td>\n",
       "    </tr>\n",
       "    <tr>\n",
       "      <td>1</td>\n",
       "      <td>1</td>\n",
       "      <td>1877.0</td>\n",
       "      <td>2768.0</td>\n",
       "      <td>0.4041</td>\n",
       "      <td>(1877.0/4645.0)</td>\n",
       "    </tr>\n",
       "    <tr>\n",
       "      <td>2</td>\n",
       "      <td>Total</td>\n",
       "      <td>15598.0</td>\n",
       "      <td>5402.0</td>\n",
       "      <td>0.2148</td>\n",
       "      <td>(4511.0/21000.0)</td>\n",
       "    </tr>\n",
       "  </tbody>\n",
       "</table>\n",
       "</div>"
      ],
      "text/plain": [
       "                0       1   Error               Rate\n",
       "0      0  13721.0  2634.0  0.1611   (2634.0/16355.0)\n",
       "1      1   1877.0  2768.0  0.4041    (1877.0/4645.0)\n",
       "2  Total  15598.0  5402.0  0.2148   (4511.0/21000.0)"
      ]
     },
     "metadata": {},
     "output_type": "display_data"
    },
    {
     "name": "stdout",
     "output_type": "stream",
     "text": [
      "\n",
      "Maximum Metrics: Maximum metrics at their respective thresholds\n"
     ]
    },
    {
     "data": {
      "text/html": [
       "<div>\n",
       "<style scoped>\n",
       "    .dataframe tbody tr th:only-of-type {\n",
       "        vertical-align: middle;\n",
       "    }\n",
       "\n",
       "    .dataframe tbody tr th {\n",
       "        vertical-align: top;\n",
       "    }\n",
       "\n",
       "    .dataframe thead th {\n",
       "        text-align: right;\n",
       "    }\n",
       "</style>\n",
       "<table border=\"1\" class=\"dataframe\">\n",
       "  <thead>\n",
       "    <tr style=\"text-align: right;\">\n",
       "      <th></th>\n",
       "      <th>metric</th>\n",
       "      <th>threshold</th>\n",
       "      <th>value</th>\n",
       "      <th>idx</th>\n",
       "    </tr>\n",
       "  </thead>\n",
       "  <tbody>\n",
       "    <tr>\n",
       "      <td>0</td>\n",
       "      <td>max f1</td>\n",
       "      <td>0.220419</td>\n",
       "      <td>0.551010</td>\n",
       "      <td>257.0</td>\n",
       "    </tr>\n",
       "    <tr>\n",
       "      <td>1</td>\n",
       "      <td>max f2</td>\n",
       "      <td>0.124234</td>\n",
       "      <td>0.640836</td>\n",
       "      <td>337.0</td>\n",
       "    </tr>\n",
       "    <tr>\n",
       "      <td>2</td>\n",
       "      <td>max f0point5</td>\n",
       "      <td>0.473321</td>\n",
       "      <td>0.586262</td>\n",
       "      <td>149.0</td>\n",
       "    </tr>\n",
       "    <tr>\n",
       "      <td>3</td>\n",
       "      <td>max accuracy</td>\n",
       "      <td>0.473321</td>\n",
       "      <td>0.822667</td>\n",
       "      <td>149.0</td>\n",
       "    </tr>\n",
       "    <tr>\n",
       "      <td>4</td>\n",
       "      <td>max precision</td>\n",
       "      <td>0.904072</td>\n",
       "      <td>1.000000</td>\n",
       "      <td>0.0</td>\n",
       "    </tr>\n",
       "    <tr>\n",
       "      <td>5</td>\n",
       "      <td>max recall</td>\n",
       "      <td>0.073768</td>\n",
       "      <td>1.000000</td>\n",
       "      <td>398.0</td>\n",
       "    </tr>\n",
       "    <tr>\n",
       "      <td>6</td>\n",
       "      <td>max specificity</td>\n",
       "      <td>0.904072</td>\n",
       "      <td>1.000000</td>\n",
       "      <td>0.0</td>\n",
       "    </tr>\n",
       "    <tr>\n",
       "      <td>7</td>\n",
       "      <td>max absolute_mcc</td>\n",
       "      <td>0.301442</td>\n",
       "      <td>0.423973</td>\n",
       "      <td>216.0</td>\n",
       "    </tr>\n",
       "    <tr>\n",
       "      <td>8</td>\n",
       "      <td>max min_per_class_accuracy</td>\n",
       "      <td>0.158395</td>\n",
       "      <td>0.708774</td>\n",
       "      <td>303.0</td>\n",
       "    </tr>\n",
       "    <tr>\n",
       "      <td>9</td>\n",
       "      <td>max mean_per_class_accuracy</td>\n",
       "      <td>0.198573</td>\n",
       "      <td>0.719186</td>\n",
       "      <td>270.0</td>\n",
       "    </tr>\n",
       "    <tr>\n",
       "      <td>10</td>\n",
       "      <td>max tns</td>\n",
       "      <td>0.904072</td>\n",
       "      <td>16355.000000</td>\n",
       "      <td>0.0</td>\n",
       "    </tr>\n",
       "    <tr>\n",
       "      <td>11</td>\n",
       "      <td>max fns</td>\n",
       "      <td>0.904072</td>\n",
       "      <td>4643.000000</td>\n",
       "      <td>0.0</td>\n",
       "    </tr>\n",
       "    <tr>\n",
       "      <td>12</td>\n",
       "      <td>max fps</td>\n",
       "      <td>0.072225</td>\n",
       "      <td>16355.000000</td>\n",
       "      <td>399.0</td>\n",
       "    </tr>\n",
       "    <tr>\n",
       "      <td>13</td>\n",
       "      <td>max tps</td>\n",
       "      <td>0.073768</td>\n",
       "      <td>4645.000000</td>\n",
       "      <td>398.0</td>\n",
       "    </tr>\n",
       "    <tr>\n",
       "      <td>14</td>\n",
       "      <td>max tnr</td>\n",
       "      <td>0.904072</td>\n",
       "      <td>1.000000</td>\n",
       "      <td>0.0</td>\n",
       "    </tr>\n",
       "    <tr>\n",
       "      <td>15</td>\n",
       "      <td>max fnr</td>\n",
       "      <td>0.904072</td>\n",
       "      <td>0.999569</td>\n",
       "      <td>0.0</td>\n",
       "    </tr>\n",
       "    <tr>\n",
       "      <td>16</td>\n",
       "      <td>max fpr</td>\n",
       "      <td>0.072225</td>\n",
       "      <td>1.000000</td>\n",
       "      <td>399.0</td>\n",
       "    </tr>\n",
       "    <tr>\n",
       "      <td>17</td>\n",
       "      <td>max tpr</td>\n",
       "      <td>0.073768</td>\n",
       "      <td>1.000000</td>\n",
       "      <td>398.0</td>\n",
       "    </tr>\n",
       "  </tbody>\n",
       "</table>\n",
       "</div>"
      ],
      "text/plain": [
       "                         metric  threshold         value    idx\n",
       "0                        max f1   0.220419      0.551010  257.0\n",
       "1                        max f2   0.124234      0.640836  337.0\n",
       "2                  max f0point5   0.473321      0.586262  149.0\n",
       "3                  max accuracy   0.473321      0.822667  149.0\n",
       "4                 max precision   0.904072      1.000000    0.0\n",
       "5                    max recall   0.073768      1.000000  398.0\n",
       "6               max specificity   0.904072      1.000000    0.0\n",
       "7              max absolute_mcc   0.301442      0.423973  216.0\n",
       "8    max min_per_class_accuracy   0.158395      0.708774  303.0\n",
       "9   max mean_per_class_accuracy   0.198573      0.719186  270.0\n",
       "10                      max tns   0.904072  16355.000000    0.0\n",
       "11                      max fns   0.904072   4643.000000    0.0\n",
       "12                      max fps   0.072225  16355.000000  399.0\n",
       "13                      max tps   0.073768   4645.000000  398.0\n",
       "14                      max tnr   0.904072      1.000000    0.0\n",
       "15                      max fnr   0.904072      0.999569    0.0\n",
       "16                      max fpr   0.072225      1.000000  399.0\n",
       "17                      max tpr   0.073768      1.000000  398.0"
      ]
     },
     "metadata": {},
     "output_type": "display_data"
    },
    {
     "name": "stdout",
     "output_type": "stream",
     "text": [
      "\n",
      "Gains/Lift Table: Avg response rate: 22.12 %, avg score: 22.11 %\n"
     ]
    },
    {
     "data": {
      "text/html": [
       "<div>\n",
       "<style scoped>\n",
       "    .dataframe tbody tr th:only-of-type {\n",
       "        vertical-align: middle;\n",
       "    }\n",
       "\n",
       "    .dataframe tbody tr th {\n",
       "        vertical-align: top;\n",
       "    }\n",
       "\n",
       "    .dataframe thead th {\n",
       "        text-align: right;\n",
       "    }\n",
       "</style>\n",
       "<table border=\"1\" class=\"dataframe\">\n",
       "  <thead>\n",
       "    <tr style=\"text-align: right;\">\n",
       "      <th></th>\n",
       "      <th></th>\n",
       "      <th>group</th>\n",
       "      <th>cumulative_data_fraction</th>\n",
       "      <th>lower_threshold</th>\n",
       "      <th>lift</th>\n",
       "      <th>cumulative_lift</th>\n",
       "      <th>response_rate</th>\n",
       "      <th>score</th>\n",
       "      <th>cumulative_response_rate</th>\n",
       "      <th>cumulative_score</th>\n",
       "      <th>capture_rate</th>\n",
       "      <th>cumulative_capture_rate</th>\n",
       "      <th>gain</th>\n",
       "      <th>cumulative_gain</th>\n",
       "    </tr>\n",
       "  </thead>\n",
       "  <tbody>\n",
       "    <tr>\n",
       "      <td>0</td>\n",
       "      <td></td>\n",
       "      <td>1</td>\n",
       "      <td>0.01</td>\n",
       "      <td>0.834952</td>\n",
       "      <td>3.810549</td>\n",
       "      <td>3.810549</td>\n",
       "      <td>0.842857</td>\n",
       "      <td>0.858114</td>\n",
       "      <td>0.842857</td>\n",
       "      <td>0.858114</td>\n",
       "      <td>0.038105</td>\n",
       "      <td>0.038105</td>\n",
       "      <td>281.054898</td>\n",
       "      <td>281.054898</td>\n",
       "    </tr>\n",
       "    <tr>\n",
       "      <td>1</td>\n",
       "      <td></td>\n",
       "      <td>2</td>\n",
       "      <td>0.02</td>\n",
       "      <td>0.811040</td>\n",
       "      <td>3.487621</td>\n",
       "      <td>3.649085</td>\n",
       "      <td>0.771429</td>\n",
       "      <td>0.822126</td>\n",
       "      <td>0.807143</td>\n",
       "      <td>0.840120</td>\n",
       "      <td>0.034876</td>\n",
       "      <td>0.072982</td>\n",
       "      <td>248.762110</td>\n",
       "      <td>264.908504</td>\n",
       "    </tr>\n",
       "    <tr>\n",
       "      <td>2</td>\n",
       "      <td></td>\n",
       "      <td>3</td>\n",
       "      <td>0.03</td>\n",
       "      <td>0.789478</td>\n",
       "      <td>3.401507</td>\n",
       "      <td>3.566559</td>\n",
       "      <td>0.752381</td>\n",
       "      <td>0.800773</td>\n",
       "      <td>0.788889</td>\n",
       "      <td>0.827004</td>\n",
       "      <td>0.034015</td>\n",
       "      <td>0.106997</td>\n",
       "      <td>240.150700</td>\n",
       "      <td>256.655902</td>\n",
       "    </tr>\n",
       "    <tr>\n",
       "      <td>3</td>\n",
       "      <td></td>\n",
       "      <td>4</td>\n",
       "      <td>0.04</td>\n",
       "      <td>0.765106</td>\n",
       "      <td>3.466093</td>\n",
       "      <td>3.541442</td>\n",
       "      <td>0.766667</td>\n",
       "      <td>0.776818</td>\n",
       "      <td>0.783333</td>\n",
       "      <td>0.814458</td>\n",
       "      <td>0.034661</td>\n",
       "      <td>0.141658</td>\n",
       "      <td>246.609257</td>\n",
       "      <td>254.144241</td>\n",
       "    </tr>\n",
       "    <tr>\n",
       "      <td>4</td>\n",
       "      <td></td>\n",
       "      <td>5</td>\n",
       "      <td>0.05</td>\n",
       "      <td>0.740470</td>\n",
       "      <td>2.992465</td>\n",
       "      <td>3.431647</td>\n",
       "      <td>0.661905</td>\n",
       "      <td>0.752592</td>\n",
       "      <td>0.759048</td>\n",
       "      <td>0.802084</td>\n",
       "      <td>0.029925</td>\n",
       "      <td>0.171582</td>\n",
       "      <td>199.246502</td>\n",
       "      <td>243.164693</td>\n",
       "    </tr>\n",
       "    <tr>\n",
       "      <td>5</td>\n",
       "      <td></td>\n",
       "      <td>6</td>\n",
       "      <td>0.10</td>\n",
       "      <td>0.595394</td>\n",
       "      <td>2.945102</td>\n",
       "      <td>3.188375</td>\n",
       "      <td>0.651429</td>\n",
       "      <td>0.673867</td>\n",
       "      <td>0.705238</td>\n",
       "      <td>0.737976</td>\n",
       "      <td>0.147255</td>\n",
       "      <td>0.318837</td>\n",
       "      <td>194.510226</td>\n",
       "      <td>218.837460</td>\n",
       "    </tr>\n",
       "    <tr>\n",
       "      <td>6</td>\n",
       "      <td></td>\n",
       "      <td>7</td>\n",
       "      <td>0.15</td>\n",
       "      <td>0.403744</td>\n",
       "      <td>2.204521</td>\n",
       "      <td>2.860423</td>\n",
       "      <td>0.487619</td>\n",
       "      <td>0.495373</td>\n",
       "      <td>0.632698</td>\n",
       "      <td>0.657108</td>\n",
       "      <td>0.110226</td>\n",
       "      <td>0.429064</td>\n",
       "      <td>120.452099</td>\n",
       "      <td>186.042339</td>\n",
       "    </tr>\n",
       "    <tr>\n",
       "      <td>7</td>\n",
       "      <td></td>\n",
       "      <td>8</td>\n",
       "      <td>0.20</td>\n",
       "      <td>0.284907</td>\n",
       "      <td>1.735199</td>\n",
       "      <td>2.579117</td>\n",
       "      <td>0.383810</td>\n",
       "      <td>0.338640</td>\n",
       "      <td>0.570476</td>\n",
       "      <td>0.577491</td>\n",
       "      <td>0.086760</td>\n",
       "      <td>0.515823</td>\n",
       "      <td>73.519914</td>\n",
       "      <td>157.911733</td>\n",
       "    </tr>\n",
       "    <tr>\n",
       "      <td>8</td>\n",
       "      <td></td>\n",
       "      <td>9</td>\n",
       "      <td>0.30</td>\n",
       "      <td>0.188915</td>\n",
       "      <td>1.233584</td>\n",
       "      <td>2.130606</td>\n",
       "      <td>0.272857</td>\n",
       "      <td>0.229222</td>\n",
       "      <td>0.471270</td>\n",
       "      <td>0.461402</td>\n",
       "      <td>0.123358</td>\n",
       "      <td>0.639182</td>\n",
       "      <td>23.358450</td>\n",
       "      <td>113.060639</td>\n",
       "    </tr>\n",
       "    <tr>\n",
       "      <td>9</td>\n",
       "      <td></td>\n",
       "      <td>10</td>\n",
       "      <td>0.40</td>\n",
       "      <td>0.153737</td>\n",
       "      <td>0.841765</td>\n",
       "      <td>1.808396</td>\n",
       "      <td>0.186190</td>\n",
       "      <td>0.168941</td>\n",
       "      <td>0.400000</td>\n",
       "      <td>0.388286</td>\n",
       "      <td>0.084177</td>\n",
       "      <td>0.723358</td>\n",
       "      <td>-15.823466</td>\n",
       "      <td>80.839612</td>\n",
       "    </tr>\n",
       "    <tr>\n",
       "      <td>10</td>\n",
       "      <td></td>\n",
       "      <td>11</td>\n",
       "      <td>0.50</td>\n",
       "      <td>0.133630</td>\n",
       "      <td>0.729817</td>\n",
       "      <td>1.592680</td>\n",
       "      <td>0.161429</td>\n",
       "      <td>0.142859</td>\n",
       "      <td>0.352286</td>\n",
       "      <td>0.339201</td>\n",
       "      <td>0.072982</td>\n",
       "      <td>0.796340</td>\n",
       "      <td>-27.018299</td>\n",
       "      <td>59.268030</td>\n",
       "    </tr>\n",
       "    <tr>\n",
       "      <td>11</td>\n",
       "      <td></td>\n",
       "      <td>12</td>\n",
       "      <td>0.60</td>\n",
       "      <td>0.119178</td>\n",
       "      <td>0.613563</td>\n",
       "      <td>1.429494</td>\n",
       "      <td>0.135714</td>\n",
       "      <td>0.126166</td>\n",
       "      <td>0.316190</td>\n",
       "      <td>0.303695</td>\n",
       "      <td>0.061356</td>\n",
       "      <td>0.857696</td>\n",
       "      <td>-38.643703</td>\n",
       "      <td>42.949408</td>\n",
       "    </tr>\n",
       "    <tr>\n",
       "      <td>12</td>\n",
       "      <td></td>\n",
       "      <td>13</td>\n",
       "      <td>0.70</td>\n",
       "      <td>0.107285</td>\n",
       "      <td>0.523143</td>\n",
       "      <td>1.300015</td>\n",
       "      <td>0.115714</td>\n",
       "      <td>0.113155</td>\n",
       "      <td>0.287551</td>\n",
       "      <td>0.276475</td>\n",
       "      <td>0.052314</td>\n",
       "      <td>0.910011</td>\n",
       "      <td>-47.685684</td>\n",
       "      <td>30.001538</td>\n",
       "    </tr>\n",
       "    <tr>\n",
       "      <td>13</td>\n",
       "      <td></td>\n",
       "      <td>14</td>\n",
       "      <td>0.80</td>\n",
       "      <td>0.097022</td>\n",
       "      <td>0.430571</td>\n",
       "      <td>1.191335</td>\n",
       "      <td>0.095238</td>\n",
       "      <td>0.102115</td>\n",
       "      <td>0.263512</td>\n",
       "      <td>0.254680</td>\n",
       "      <td>0.043057</td>\n",
       "      <td>0.953068</td>\n",
       "      <td>-56.942949</td>\n",
       "      <td>19.133477</td>\n",
       "    </tr>\n",
       "    <tr>\n",
       "      <td>14</td>\n",
       "      <td></td>\n",
       "      <td>15</td>\n",
       "      <td>0.90</td>\n",
       "      <td>0.087227</td>\n",
       "      <td>0.288482</td>\n",
       "      <td>1.091018</td>\n",
       "      <td>0.063810</td>\n",
       "      <td>0.092055</td>\n",
       "      <td>0.241323</td>\n",
       "      <td>0.236611</td>\n",
       "      <td>0.028848</td>\n",
       "      <td>0.981916</td>\n",
       "      <td>-71.151776</td>\n",
       "      <td>9.101782</td>\n",
       "    </tr>\n",
       "    <tr>\n",
       "      <td>15</td>\n",
       "      <td></td>\n",
       "      <td>16</td>\n",
       "      <td>1.00</td>\n",
       "      <td>0.069507</td>\n",
       "      <td>0.180840</td>\n",
       "      <td>1.000000</td>\n",
       "      <td>0.040000</td>\n",
       "      <td>0.081952</td>\n",
       "      <td>0.221190</td>\n",
       "      <td>0.221145</td>\n",
       "      <td>0.018084</td>\n",
       "      <td>1.000000</td>\n",
       "      <td>-81.916039</td>\n",
       "      <td>0.000000</td>\n",
       "    </tr>\n",
       "  </tbody>\n",
       "</table>\n",
       "</div>"
      ],
      "text/plain": [
       "      group  cumulative_data_fraction  lower_threshold      lift  \\\n",
       "0         1                      0.01         0.834952  3.810549   \n",
       "1         2                      0.02         0.811040  3.487621   \n",
       "2         3                      0.03         0.789478  3.401507   \n",
       "3         4                      0.04         0.765106  3.466093   \n",
       "4         5                      0.05         0.740470  2.992465   \n",
       "5         6                      0.10         0.595394  2.945102   \n",
       "6         7                      0.15         0.403744  2.204521   \n",
       "7         8                      0.20         0.284907  1.735199   \n",
       "8         9                      0.30         0.188915  1.233584   \n",
       "9        10                      0.40         0.153737  0.841765   \n",
       "10       11                      0.50         0.133630  0.729817   \n",
       "11       12                      0.60         0.119178  0.613563   \n",
       "12       13                      0.70         0.107285  0.523143   \n",
       "13       14                      0.80         0.097022  0.430571   \n",
       "14       15                      0.90         0.087227  0.288482   \n",
       "15       16                      1.00         0.069507  0.180840   \n",
       "\n",
       "    cumulative_lift  response_rate     score  cumulative_response_rate  \\\n",
       "0          3.810549       0.842857  0.858114                  0.842857   \n",
       "1          3.649085       0.771429  0.822126                  0.807143   \n",
       "2          3.566559       0.752381  0.800773                  0.788889   \n",
       "3          3.541442       0.766667  0.776818                  0.783333   \n",
       "4          3.431647       0.661905  0.752592                  0.759048   \n",
       "5          3.188375       0.651429  0.673867                  0.705238   \n",
       "6          2.860423       0.487619  0.495373                  0.632698   \n",
       "7          2.579117       0.383810  0.338640                  0.570476   \n",
       "8          2.130606       0.272857  0.229222                  0.471270   \n",
       "9          1.808396       0.186190  0.168941                  0.400000   \n",
       "10         1.592680       0.161429  0.142859                  0.352286   \n",
       "11         1.429494       0.135714  0.126166                  0.316190   \n",
       "12         1.300015       0.115714  0.113155                  0.287551   \n",
       "13         1.191335       0.095238  0.102115                  0.263512   \n",
       "14         1.091018       0.063810  0.092055                  0.241323   \n",
       "15         1.000000       0.040000  0.081952                  0.221190   \n",
       "\n",
       "    cumulative_score  capture_rate  cumulative_capture_rate        gain  \\\n",
       "0           0.858114      0.038105                 0.038105  281.054898   \n",
       "1           0.840120      0.034876                 0.072982  248.762110   \n",
       "2           0.827004      0.034015                 0.106997  240.150700   \n",
       "3           0.814458      0.034661                 0.141658  246.609257   \n",
       "4           0.802084      0.029925                 0.171582  199.246502   \n",
       "5           0.737976      0.147255                 0.318837  194.510226   \n",
       "6           0.657108      0.110226                 0.429064  120.452099   \n",
       "7           0.577491      0.086760                 0.515823   73.519914   \n",
       "8           0.461402      0.123358                 0.639182   23.358450   \n",
       "9           0.388286      0.084177                 0.723358  -15.823466   \n",
       "10          0.339201      0.072982                 0.796340  -27.018299   \n",
       "11          0.303695      0.061356                 0.857696  -38.643703   \n",
       "12          0.276475      0.052314                 0.910011  -47.685684   \n",
       "13          0.254680      0.043057                 0.953068  -56.942949   \n",
       "14          0.236611      0.028848                 0.981916  -71.151776   \n",
       "15          0.221145      0.018084                 1.000000  -81.916039   \n",
       "\n",
       "    cumulative_gain  \n",
       "0        281.054898  \n",
       "1        264.908504  \n",
       "2        256.655902  \n",
       "3        254.144241  \n",
       "4        243.164693  \n",
       "5        218.837460  \n",
       "6        186.042339  \n",
       "7        157.911733  \n",
       "8        113.060639  \n",
       "9         80.839612  \n",
       "10        59.268030  \n",
       "11        42.949408  \n",
       "12        30.001538  \n",
       "13        19.133477  \n",
       "14         9.101782  \n",
       "15         0.000000  "
      ]
     },
     "metadata": {},
     "output_type": "display_data"
    },
    {
     "name": "stdout",
     "output_type": "stream",
     "text": [
      "\n"
     ]
    },
    {
     "data": {
      "text/plain": []
     },
     "execution_count": 75,
     "metadata": {},
     "output_type": "execute_result"
    }
   ],
   "source": [
    "aml.leader"
   ]
  },
  {
   "cell_type": "code",
   "execution_count": 77,
   "metadata": {},
   "outputs": [
    {
     "name": "stdout",
     "output_type": "stream",
     "text": [
      "stackedensemble prediction progress: |████████████████████████████████████| 100%\n"
     ]
    }
   ],
   "source": [
    "preds = aml.predict(test_h2o)"
   ]
  },
  {
   "cell_type": "code",
   "execution_count": 79,
   "metadata": {},
   "outputs": [
    {
     "data": {
      "text/html": [
       "<table>\n",
       "<thead>\n",
       "<tr><th style=\"text-align: right;\">  predict</th></tr>\n",
       "</thead>\n",
       "<tbody>\n",
       "<tr><td style=\"text-align: right;\">        0</td></tr>\n",
       "<tr><td style=\"text-align: right;\">        0</td></tr>\n",
       "<tr><td style=\"text-align: right;\">        0</td></tr>\n",
       "<tr><td style=\"text-align: right;\">        0</td></tr>\n",
       "<tr><td style=\"text-align: right;\">        0</td></tr>\n",
       "<tr><td style=\"text-align: right;\">        0</td></tr>\n",
       "<tr><td style=\"text-align: right;\">        0</td></tr>\n",
       "<tr><td style=\"text-align: right;\">        1</td></tr>\n",
       "<tr><td style=\"text-align: right;\">        0</td></tr>\n",
       "<tr><td style=\"text-align: right;\">        1</td></tr>\n",
       "</tbody>\n",
       "</table>"
      ]
     },
     "metadata": {},
     "output_type": "display_data"
    },
    {
     "data": {
      "text/plain": []
     },
     "execution_count": 79,
     "metadata": {},
     "output_type": "execute_result"
    }
   ],
   "source": [
    "preds['predict']"
   ]
  },
  {
   "cell_type": "code",
   "execution_count": 90,
   "metadata": {},
   "outputs": [],
   "source": [
    "preds = preds.as_data_frame()\n",
    "prediction_2 = preds['predict'].to_list()\n",
    "submission = pd.DataFrame({'ID':ID_test, 'default_payment_next_month':prediction_2})\n",
    "submission.to_csv('submission_h2o.csv',index=False)"
   ]
  },
  {
   "cell_type": "code",
   "execution_count": 97,
   "metadata": {},
   "outputs": [
    {
     "data": {
      "text/html": [
       "<div>\n",
       "<style scoped>\n",
       "    .dataframe tbody tr th:only-of-type {\n",
       "        vertical-align: middle;\n",
       "    }\n",
       "\n",
       "    .dataframe tbody tr th {\n",
       "        vertical-align: top;\n",
       "    }\n",
       "\n",
       "    .dataframe thead th {\n",
       "        text-align: right;\n",
       "    }\n",
       "</style>\n",
       "<table border=\"1\" class=\"dataframe\">\n",
       "  <thead>\n",
       "    <tr style=\"text-align: right;\">\n",
       "      <th></th>\n",
       "      <th>ID</th>\n",
       "      <th>default_payment_next_month</th>\n",
       "    </tr>\n",
       "  </thead>\n",
       "  <tbody>\n",
       "    <tr>\n",
       "      <td>0</td>\n",
       "      <td>10178</td>\n",
       "      <td>0</td>\n",
       "    </tr>\n",
       "    <tr>\n",
       "      <td>1</td>\n",
       "      <td>5304</td>\n",
       "      <td>0</td>\n",
       "    </tr>\n",
       "    <tr>\n",
       "      <td>2</td>\n",
       "      <td>5187</td>\n",
       "      <td>0</td>\n",
       "    </tr>\n",
       "    <tr>\n",
       "      <td>3</td>\n",
       "      <td>14495</td>\n",
       "      <td>0</td>\n",
       "    </tr>\n",
       "    <tr>\n",
       "      <td>4</td>\n",
       "      <td>20444</td>\n",
       "      <td>0</td>\n",
       "    </tr>\n",
       "  </tbody>\n",
       "</table>\n",
       "</div>"
      ],
      "text/plain": [
       "      ID  default_payment_next_month\n",
       "0  10178                           0\n",
       "1   5304                           0\n",
       "2   5187                           0\n",
       "3  14495                           0\n",
       "4  20444                           0"
      ]
     },
     "execution_count": 97,
     "metadata": {},
     "output_type": "execute_result"
    }
   ],
   "source": [
    "submission.head()"
   ]
  },
  {
   "cell_type": "code",
   "execution_count": 117,
   "metadata": {},
   "outputs": [],
   "source": [
    "best_XGB_2 = XGBClassifier(booster='gbtree',eta = 0.1,max_depth  = 5,tree_method = 'auto',scale_pos_weight = 0.28,n_estimators = 500,reg_lambda = 1,sampling_method = '')"
   ]
  },
  {
   "cell_type": "code",
   "execution_count": 118,
   "metadata": {},
   "outputs": [
    {
     "data": {
      "text/plain": [
       "XGBClassifier(base_score=0.5, booster='gbtree', colsample_bylevel=1,\n",
       "              colsample_bynode=1, colsample_bytree=1, eta=0.1, gamma=0,\n",
       "              gpu_id=-1, importance_type='gain', interaction_constraints=None,\n",
       "              learning_rate=0.100000001, max_delta_step=0, max_depth=5,\n",
       "              min_child_weight=1, missing=nan, monotone_constraints=None,\n",
       "              n_estimators=500, n_jobs=0, num_parallel_tree=1,\n",
       "              objective='binary:logistic', random_state=0, reg_alpha=0,\n",
       "              reg_lambda=1, scale_pos_weight=0.28, subsample=1,\n",
       "              tree_method='auto', validate_parameters=False, verbosity=None)"
      ]
     },
     "execution_count": 118,
     "metadata": {},
     "output_type": "execute_result"
    }
   ],
   "source": [
    "best_XGB_2.fit(X_train, y_train)"
   ]
  },
  {
   "cell_type": "code",
   "execution_count": 119,
   "metadata": {},
   "outputs": [
    {
     "name": "stdout",
     "output_type": "stream",
     "text": [
      "Accuracy: 80.563%\n"
     ]
    }
   ],
   "source": [
    "prediction = best_XGB_2.predict(X_test)\n",
    "print(\"Accuracy: {}%\".format(round(accuracy_score(y_test, prediction) * 100,3)))"
   ]
  },
  {
   "cell_type": "code",
   "execution_count": 104,
   "metadata": {},
   "outputs": [
    {
     "ename": "AttributeError",
     "evalue": "'XGBClassifier' object has no attribute 'evals_result_'",
     "output_type": "error",
     "traceback": [
      "\u001b[1;31m---------------------------------------------------------------------------\u001b[0m",
      "\u001b[1;31mAttributeError\u001b[0m                            Traceback (most recent call last)",
      "\u001b[1;32m<ipython-input-104-9402222f6465>\u001b[0m in \u001b[0;36m<module>\u001b[1;34m\u001b[0m\n\u001b[1;32m----> 1\u001b[1;33m \u001b[0mbest_XGB\u001b[0m\u001b[1;33m.\u001b[0m\u001b[0mevals_result\u001b[0m\u001b[1;33m(\u001b[0m\u001b[1;33m)\u001b[0m\u001b[1;33m\u001b[0m\u001b[1;33m\u001b[0m\u001b[0m\n\u001b[0m",
      "\u001b[1;32mC:\\ProgramData\\Anaconda3\\lib\\site-packages\\xgboost\\sklearn.py\u001b[0m in \u001b[0;36mevals_result\u001b[1;34m(self)\u001b[0m\n\u001b[0;32m    977\u001b[0m             'validation_1': {'logloss': ['0.41965', '0.17686']}}\n\u001b[0;32m    978\u001b[0m         \"\"\"\n\u001b[1;32m--> 979\u001b[1;33m         \u001b[1;32mif\u001b[0m \u001b[0mself\u001b[0m\u001b[1;33m.\u001b[0m\u001b[0mevals_result_\u001b[0m\u001b[1;33m:\u001b[0m\u001b[1;33m\u001b[0m\u001b[1;33m\u001b[0m\u001b[0m\n\u001b[0m\u001b[0;32m    980\u001b[0m             \u001b[0mevals_result\u001b[0m \u001b[1;33m=\u001b[0m \u001b[0mself\u001b[0m\u001b[1;33m.\u001b[0m\u001b[0mevals_result_\u001b[0m\u001b[1;33m\u001b[0m\u001b[1;33m\u001b[0m\u001b[0m\n\u001b[0;32m    981\u001b[0m         \u001b[1;32melse\u001b[0m\u001b[1;33m:\u001b[0m\u001b[1;33m\u001b[0m\u001b[1;33m\u001b[0m\u001b[0m\n",
      "\u001b[1;31mAttributeError\u001b[0m: 'XGBClassifier' object has no attribute 'evals_result_'"
     ]
    }
   ],
   "source": [
    "##finalprediction\n",
    "ID_test = test_data['ID'].copy()\n",
    "prediction_2 = best_XGB_2.predict(test_data.copy().drop('ID', axis = 1))"
   ]
  },
  {
   "cell_type": "code",
   "execution_count": 2,
   "metadata": {},
   "outputs": [
    {
     "name": "stdout",
     "output_type": "stream",
     "text": [
      "Checking whether there is an H2O instance running at http://192.168.31.71:54321 . connected.\n"
     ]
    },
    {
     "data": {
      "text/html": [
       "<div style=\"overflow:auto\"><table style=\"width:50%\"><tr><td>H2O cluster uptime:</td>\n",
       "<td>15 secs</td></tr>\n",
       "<tr><td>H2O cluster timezone:</td>\n",
       "<td>Etc/UTC</td></tr>\n",
       "<tr><td>H2O data parsing timezone:</td>\n",
       "<td>UTC</td></tr>\n",
       "<tr><td>H2O cluster version:</td>\n",
       "<td>3.28.1.2</td></tr>\n",
       "<tr><td>H2O cluster version age:</td>\n",
       "<td>4 days </td></tr>\n",
       "<tr><td>H2O cluster name:</td>\n",
       "<td>root</td></tr>\n",
       "<tr><td>H2O cluster total nodes:</td>\n",
       "<td>1</td></tr>\n",
       "<tr><td>H2O cluster free memory:</td>\n",
       "<td>896 Mb</td></tr>\n",
       "<tr><td>H2O cluster total cores:</td>\n",
       "<td>2</td></tr>\n",
       "<tr><td>H2O cluster allowed cores:</td>\n",
       "<td>2</td></tr>\n",
       "<tr><td>H2O cluster status:</td>\n",
       "<td>locked, healthy</td></tr>\n",
       "<tr><td>H2O connection url:</td>\n",
       "<td>http://192.168.31.71:54321</td></tr>\n",
       "<tr><td>H2O connection proxy:</td>\n",
       "<td>None</td></tr>\n",
       "<tr><td>H2O internal security:</td>\n",
       "<td>False</td></tr>\n",
       "<tr><td>H2O API Extensions:</td>\n",
       "<td>Amazon S3, XGBoost, Algos, AutoML, Core V3, TargetEncoder, Core V4</td></tr>\n",
       "<tr><td>Python version:</td>\n",
       "<td>3.7.4 final</td></tr></table></div>"
      ],
      "text/plain": [
       "--------------------------  ------------------------------------------------------------------\n",
       "H2O cluster uptime:         15 secs\n",
       "H2O cluster timezone:       Etc/UTC\n",
       "H2O data parsing timezone:  UTC\n",
       "H2O cluster version:        3.28.1.2\n",
       "H2O cluster version age:    4 days\n",
       "H2O cluster name:           root\n",
       "H2O cluster total nodes:    1\n",
       "H2O cluster free memory:    896 Mb\n",
       "H2O cluster total cores:    2\n",
       "H2O cluster allowed cores:  2\n",
       "H2O cluster status:         locked, healthy\n",
       "H2O connection url:         http://192.168.31.71:54321\n",
       "H2O connection proxy:\n",
       "H2O internal security:      False\n",
       "H2O API Extensions:         Amazon S3, XGBoost, Algos, AutoML, Core V3, TargetEncoder, Core V4\n",
       "Python version:             3.7.4 final\n",
       "--------------------------  ------------------------------------------------------------------"
      ]
     },
     "metadata": {},
     "output_type": "display_data"
    }
   ],
   "source": [
    "import h2o\n",
    "dockerh2o = h2o.init(ip = \"192.168.31.71\", port = 54321)"
   ]
  },
  {
   "cell_type": "code",
   "execution_count": 6,
   "metadata": {},
   "outputs": [
    {
     "data": {
      "text/plain": [
       "True"
      ]
     },
     "execution_count": 6,
     "metadata": {},
     "output_type": "execute_result"
    }
   ],
   "source": [
    "h2o.estimators.xgboost.H2OXGBoostEstimator.available()"
   ]
  },
  {
   "cell_type": "code",
   "execution_count": 12,
   "metadata": {},
   "outputs": [
    {
     "ename": "H2OResponseError",
     "evalue": "Server error water.exceptions.H2ONotFoundArgumentException:\n  Error: File C:\\av\\train_20D8GL3.csv does not exist\n  Request: POST /3/ImportFilesMulti\n    data: {'paths': '[C:\\\\av\\\\train_20D8GL3.csv]'}\n",
     "output_type": "error",
     "traceback": [
      "\u001b[1;31m---------------------------------------------------------------------------\u001b[0m",
      "\u001b[1;31mH2OResponseError\u001b[0m                          Traceback (most recent call last)",
      "\u001b[1;32m<ipython-input-12-50ddb27e1fe1>\u001b[0m in \u001b[0;36m<module>\u001b[1;34m\u001b[0m\n\u001b[1;32m----> 1\u001b[1;33m \u001b[0mtrain_h2o\u001b[0m \u001b[1;33m=\u001b[0m \u001b[0mh2o\u001b[0m\u001b[1;33m.\u001b[0m\u001b[0mimport_file\u001b[0m\u001b[1;33m(\u001b[0m\u001b[1;34m\"C:/av/train_20D8GL3.csv\"\u001b[0m\u001b[1;33m)\u001b[0m\u001b[1;33m\u001b[0m\u001b[1;33m\u001b[0m\u001b[0m\n\u001b[0m\u001b[0;32m      2\u001b[0m \u001b[0mtest_h2o\u001b[0m \u001b[1;33m=\u001b[0m \u001b[0mh2o\u001b[0m\u001b[1;33m.\u001b[0m\u001b[0mimport_file\u001b[0m\u001b[1;33m(\u001b[0m\u001b[1;34m\"C:/av/datatest_O6kKpvt.csv\"\u001b[0m\u001b[1;33m)\u001b[0m\u001b[1;33m\u001b[0m\u001b[1;33m\u001b[0m\u001b[0m\n",
      "\u001b[1;32mC:\\ProgramData\\Anaconda3\\lib\\site-packages\\h2o\\h2o.py\u001b[0m in \u001b[0;36mimport_file\u001b[1;34m(path, destination_frame, parse, header, sep, col_names, col_types, na_strings, pattern, skipped_columns, custom_non_data_line_markers)\u001b[0m\n\u001b[0;32m    460\u001b[0m     \u001b[1;32melse\u001b[0m\u001b[1;33m:\u001b[0m\u001b[1;33m\u001b[0m\u001b[1;33m\u001b[0m\u001b[0m\n\u001b[0;32m    461\u001b[0m         return H2OFrame()._import_parse(path, pattern, destination_frame, header, sep, col_names, col_types, na_strings,\n\u001b[1;32m--> 462\u001b[1;33m                                         skipped_columns, custom_non_data_line_markers)\n\u001b[0m\u001b[0;32m    463\u001b[0m \u001b[1;33m\u001b[0m\u001b[0m\n\u001b[0;32m    464\u001b[0m \u001b[1;33m\u001b[0m\u001b[0m\n",
      "\u001b[1;32mC:\\ProgramData\\Anaconda3\\lib\\site-packages\\h2o\\frame.py\u001b[0m in \u001b[0;36m_import_parse\u001b[1;34m(self, path, pattern, destination_frame, header, separator, column_names, column_types, na_strings, skipped_columns, custom_non_data_line_markers)\u001b[0m\n\u001b[0;32m    426\u001b[0m         \u001b[1;32mif\u001b[0m \u001b[0mH2OFrame\u001b[0m\u001b[1;33m.\u001b[0m\u001b[0m__LOCAL_EXPANSION_ON_SINGLE_IMPORT__\u001b[0m \u001b[1;32mand\u001b[0m \u001b[0mis_type\u001b[0m\u001b[1;33m(\u001b[0m\u001b[0mpath\u001b[0m\u001b[1;33m,\u001b[0m \u001b[0mstr\u001b[0m\u001b[1;33m)\u001b[0m \u001b[1;32mand\u001b[0m \u001b[1;34m\"://\"\u001b[0m \u001b[1;32mnot\u001b[0m \u001b[1;32min\u001b[0m \u001b[0mpath\u001b[0m\u001b[1;33m:\u001b[0m  \u001b[1;31m# fixme: delete those 2 lines, cf. PUBDEV-5717\u001b[0m\u001b[1;33m\u001b[0m\u001b[1;33m\u001b[0m\u001b[0m\n\u001b[0;32m    427\u001b[0m             \u001b[0mpath\u001b[0m \u001b[1;33m=\u001b[0m \u001b[0mos\u001b[0m\u001b[1;33m.\u001b[0m\u001b[0mpath\u001b[0m\u001b[1;33m.\u001b[0m\u001b[0mabspath\u001b[0m\u001b[1;33m(\u001b[0m\u001b[0mpath\u001b[0m\u001b[1;33m)\u001b[0m\u001b[1;33m\u001b[0m\u001b[1;33m\u001b[0m\u001b[0m\n\u001b[1;32m--> 428\u001b[1;33m         \u001b[0mrawkey\u001b[0m \u001b[1;33m=\u001b[0m \u001b[0mh2o\u001b[0m\u001b[1;33m.\u001b[0m\u001b[0mlazy_import\u001b[0m\u001b[1;33m(\u001b[0m\u001b[0mpath\u001b[0m\u001b[1;33m,\u001b[0m \u001b[0mpattern\u001b[0m\u001b[1;33m)\u001b[0m\u001b[1;33m\u001b[0m\u001b[1;33m\u001b[0m\u001b[0m\n\u001b[0m\u001b[0;32m    429\u001b[0m         self._parse(rawkey, destination_frame, header, separator, column_names, column_types, na_strings,\n\u001b[0;32m    430\u001b[0m                     skipped_columns, custom_non_data_line_markers)\n",
      "\u001b[1;32mC:\\ProgramData\\Anaconda3\\lib\\site-packages\\h2o\\h2o.py\u001b[0m in \u001b[0;36mlazy_import\u001b[1;34m(path, pattern)\u001b[0m\n\u001b[0;32m    323\u001b[0m     \u001b[0massert_is_type\u001b[0m\u001b[1;33m(\u001b[0m\u001b[0mpattern\u001b[0m\u001b[1;33m,\u001b[0m \u001b[0mstr\u001b[0m\u001b[1;33m,\u001b[0m \u001b[1;32mNone\u001b[0m\u001b[1;33m)\u001b[0m\u001b[1;33m\u001b[0m\u001b[1;33m\u001b[0m\u001b[0m\n\u001b[0;32m    324\u001b[0m     \u001b[0mpaths\u001b[0m \u001b[1;33m=\u001b[0m \u001b[1;33m[\u001b[0m\u001b[0mpath\u001b[0m\u001b[1;33m]\u001b[0m \u001b[1;32mif\u001b[0m \u001b[0mis_type\u001b[0m\u001b[1;33m(\u001b[0m\u001b[0mpath\u001b[0m\u001b[1;33m,\u001b[0m \u001b[0mstr\u001b[0m\u001b[1;33m)\u001b[0m \u001b[1;32melse\u001b[0m \u001b[0mpath\u001b[0m\u001b[1;33m\u001b[0m\u001b[1;33m\u001b[0m\u001b[0m\n\u001b[1;32m--> 325\u001b[1;33m     \u001b[1;32mreturn\u001b[0m \u001b[0m_import_multi\u001b[0m\u001b[1;33m(\u001b[0m\u001b[0mpaths\u001b[0m\u001b[1;33m,\u001b[0m \u001b[0mpattern\u001b[0m\u001b[1;33m)\u001b[0m\u001b[1;33m\u001b[0m\u001b[1;33m\u001b[0m\u001b[0m\n\u001b[0m\u001b[0;32m    326\u001b[0m \u001b[1;33m\u001b[0m\u001b[0m\n\u001b[0;32m    327\u001b[0m \u001b[1;33m\u001b[0m\u001b[0m\n",
      "\u001b[1;32mC:\\ProgramData\\Anaconda3\\lib\\site-packages\\h2o\\h2o.py\u001b[0m in \u001b[0;36m_import_multi\u001b[1;34m(paths, pattern)\u001b[0m\n\u001b[0;32m    329\u001b[0m     \u001b[0massert_is_type\u001b[0m\u001b[1;33m(\u001b[0m\u001b[0mpaths\u001b[0m\u001b[1;33m,\u001b[0m \u001b[1;33m[\u001b[0m\u001b[0mstr\u001b[0m\u001b[1;33m]\u001b[0m\u001b[1;33m)\u001b[0m\u001b[1;33m\u001b[0m\u001b[1;33m\u001b[0m\u001b[0m\n\u001b[0;32m    330\u001b[0m     \u001b[0massert_is_type\u001b[0m\u001b[1;33m(\u001b[0m\u001b[0mpattern\u001b[0m\u001b[1;33m,\u001b[0m \u001b[0mstr\u001b[0m\u001b[1;33m,\u001b[0m \u001b[1;32mNone\u001b[0m\u001b[1;33m)\u001b[0m\u001b[1;33m\u001b[0m\u001b[1;33m\u001b[0m\u001b[0m\n\u001b[1;32m--> 331\u001b[1;33m     \u001b[0mj\u001b[0m \u001b[1;33m=\u001b[0m \u001b[0mapi\u001b[0m\u001b[1;33m(\u001b[0m\u001b[1;34m\"POST /3/ImportFilesMulti\"\u001b[0m\u001b[1;33m,\u001b[0m \u001b[1;33m{\u001b[0m\u001b[1;34m\"paths\"\u001b[0m\u001b[1;33m:\u001b[0m \u001b[0mpaths\u001b[0m\u001b[1;33m,\u001b[0m \u001b[1;34m\"pattern\"\u001b[0m\u001b[1;33m:\u001b[0m \u001b[0mpattern\u001b[0m\u001b[1;33m}\u001b[0m\u001b[1;33m)\u001b[0m\u001b[1;33m\u001b[0m\u001b[1;33m\u001b[0m\u001b[0m\n\u001b[0m\u001b[0;32m    332\u001b[0m     \u001b[1;32mif\u001b[0m \u001b[0mj\u001b[0m\u001b[1;33m[\u001b[0m\u001b[1;34m\"fails\"\u001b[0m\u001b[1;33m]\u001b[0m\u001b[1;33m:\u001b[0m \u001b[1;32mraise\u001b[0m \u001b[0mValueError\u001b[0m\u001b[1;33m(\u001b[0m\u001b[1;34m\"ImportFiles of '\"\u001b[0m \u001b[1;33m+\u001b[0m \u001b[1;34m\".\"\u001b[0m\u001b[1;33m.\u001b[0m\u001b[0mjoin\u001b[0m\u001b[1;33m(\u001b[0m\u001b[0mpaths\u001b[0m\u001b[1;33m)\u001b[0m \u001b[1;33m+\u001b[0m \u001b[1;34m\"' failed on \"\u001b[0m \u001b[1;33m+\u001b[0m \u001b[0mstr\u001b[0m\u001b[1;33m(\u001b[0m\u001b[0mj\u001b[0m\u001b[1;33m[\u001b[0m\u001b[1;34m\"fails\"\u001b[0m\u001b[1;33m]\u001b[0m\u001b[1;33m)\u001b[0m\u001b[1;33m)\u001b[0m\u001b[1;33m\u001b[0m\u001b[1;33m\u001b[0m\u001b[0m\n\u001b[0;32m    333\u001b[0m     \u001b[1;32mreturn\u001b[0m \u001b[0mj\u001b[0m\u001b[1;33m[\u001b[0m\u001b[1;34m\"destination_frames\"\u001b[0m\u001b[1;33m]\u001b[0m\u001b[1;33m\u001b[0m\u001b[1;33m\u001b[0m\u001b[0m\n",
      "\u001b[1;32mC:\\ProgramData\\Anaconda3\\lib\\site-packages\\h2o\\h2o.py\u001b[0m in \u001b[0;36mapi\u001b[1;34m(endpoint, data, json, filename, save_to)\u001b[0m\n\u001b[0;32m    107\u001b[0m     \u001b[1;31m# type checks are performed in H2OConnection class\u001b[0m\u001b[1;33m\u001b[0m\u001b[1;33m\u001b[0m\u001b[1;33m\u001b[0m\u001b[0m\n\u001b[0;32m    108\u001b[0m     \u001b[0m_check_connection\u001b[0m\u001b[1;33m(\u001b[0m\u001b[1;33m)\u001b[0m\u001b[1;33m\u001b[0m\u001b[1;33m\u001b[0m\u001b[0m\n\u001b[1;32m--> 109\u001b[1;33m     \u001b[1;32mreturn\u001b[0m \u001b[0mh2oconn\u001b[0m\u001b[1;33m.\u001b[0m\u001b[0mrequest\u001b[0m\u001b[1;33m(\u001b[0m\u001b[0mendpoint\u001b[0m\u001b[1;33m,\u001b[0m \u001b[0mdata\u001b[0m\u001b[1;33m=\u001b[0m\u001b[0mdata\u001b[0m\u001b[1;33m,\u001b[0m \u001b[0mjson\u001b[0m\u001b[1;33m=\u001b[0m\u001b[0mjson\u001b[0m\u001b[1;33m,\u001b[0m \u001b[0mfilename\u001b[0m\u001b[1;33m=\u001b[0m\u001b[0mfilename\u001b[0m\u001b[1;33m,\u001b[0m \u001b[0msave_to\u001b[0m\u001b[1;33m=\u001b[0m\u001b[0msave_to\u001b[0m\u001b[1;33m)\u001b[0m\u001b[1;33m\u001b[0m\u001b[1;33m\u001b[0m\u001b[0m\n\u001b[0m\u001b[0;32m    110\u001b[0m \u001b[1;33m\u001b[0m\u001b[0m\n\u001b[0;32m    111\u001b[0m \u001b[1;33m\u001b[0m\u001b[0m\n",
      "\u001b[1;32mC:\\ProgramData\\Anaconda3\\lib\\site-packages\\h2o\\backend\\connection.py\u001b[0m in \u001b[0;36mrequest\u001b[1;34m(self, endpoint, data, json, filename, save_to)\u001b[0m\n\u001b[0;32m    476\u001b[0m                 \u001b[0msave_to\u001b[0m \u001b[1;33m=\u001b[0m \u001b[0msave_to\u001b[0m\u001b[1;33m(\u001b[0m\u001b[0mresp\u001b[0m\u001b[1;33m)\u001b[0m\u001b[1;33m\u001b[0m\u001b[1;33m\u001b[0m\u001b[0m\n\u001b[0;32m    477\u001b[0m             \u001b[0mself\u001b[0m\u001b[1;33m.\u001b[0m\u001b[0m_log_end_transaction\u001b[0m\u001b[1;33m(\u001b[0m\u001b[0mstart_time\u001b[0m\u001b[1;33m,\u001b[0m \u001b[0mresp\u001b[0m\u001b[1;33m)\u001b[0m\u001b[1;33m\u001b[0m\u001b[1;33m\u001b[0m\u001b[0m\n\u001b[1;32m--> 478\u001b[1;33m             \u001b[1;32mreturn\u001b[0m \u001b[0mself\u001b[0m\u001b[1;33m.\u001b[0m\u001b[0m_process_response\u001b[0m\u001b[1;33m(\u001b[0m\u001b[0mresp\u001b[0m\u001b[1;33m,\u001b[0m \u001b[0msave_to\u001b[0m\u001b[1;33m)\u001b[0m\u001b[1;33m\u001b[0m\u001b[1;33m\u001b[0m\u001b[0m\n\u001b[0m\u001b[0;32m    479\u001b[0m \u001b[1;33m\u001b[0m\u001b[0m\n\u001b[0;32m    480\u001b[0m         \u001b[1;32mexcept\u001b[0m \u001b[1;33m(\u001b[0m\u001b[0mrequests\u001b[0m\u001b[1;33m.\u001b[0m\u001b[0mexceptions\u001b[0m\u001b[1;33m.\u001b[0m\u001b[0mConnectionError\u001b[0m\u001b[1;33m,\u001b[0m \u001b[0mrequests\u001b[0m\u001b[1;33m.\u001b[0m\u001b[0mexceptions\u001b[0m\u001b[1;33m.\u001b[0m\u001b[0mHTTPError\u001b[0m\u001b[1;33m)\u001b[0m \u001b[1;32mas\u001b[0m \u001b[0me\u001b[0m\u001b[1;33m:\u001b[0m\u001b[1;33m\u001b[0m\u001b[1;33m\u001b[0m\u001b[0m\n",
      "\u001b[1;32mC:\\ProgramData\\Anaconda3\\lib\\site-packages\\h2o\\backend\\connection.py\u001b[0m in \u001b[0;36m_process_response\u001b[1;34m(response, save_to)\u001b[0m\n\u001b[0;32m    822\u001b[0m         \u001b[1;31m# Client errors (400 = \"Bad Request\", 404 = \"Not Found\", 412 = \"Precondition Failed\")\u001b[0m\u001b[1;33m\u001b[0m\u001b[1;33m\u001b[0m\u001b[1;33m\u001b[0m\u001b[0m\n\u001b[0;32m    823\u001b[0m         \u001b[1;32mif\u001b[0m \u001b[0mstatus_code\u001b[0m \u001b[1;32min\u001b[0m \u001b[1;33m{\u001b[0m\u001b[1;36m400\u001b[0m\u001b[1;33m,\u001b[0m \u001b[1;36m404\u001b[0m\u001b[1;33m,\u001b[0m \u001b[1;36m412\u001b[0m\u001b[1;33m}\u001b[0m \u001b[1;32mand\u001b[0m \u001b[0misinstance\u001b[0m\u001b[1;33m(\u001b[0m\u001b[0mdata\u001b[0m\u001b[1;33m,\u001b[0m \u001b[1;33m(\u001b[0m\u001b[0mH2OErrorV3\u001b[0m\u001b[1;33m,\u001b[0m \u001b[0mH2OModelBuilderErrorV3\u001b[0m\u001b[1;33m)\u001b[0m\u001b[1;33m)\u001b[0m\u001b[1;33m:\u001b[0m\u001b[1;33m\u001b[0m\u001b[1;33m\u001b[0m\u001b[0m\n\u001b[1;32m--> 824\u001b[1;33m             \u001b[1;32mraise\u001b[0m \u001b[0mH2OResponseError\u001b[0m\u001b[1;33m(\u001b[0m\u001b[0mdata\u001b[0m\u001b[1;33m)\u001b[0m\u001b[1;33m\u001b[0m\u001b[1;33m\u001b[0m\u001b[0m\n\u001b[0m\u001b[0;32m    825\u001b[0m \u001b[1;33m\u001b[0m\u001b[0m\n\u001b[0;32m    826\u001b[0m         \u001b[1;31m# Server errors (notably 500 = \"Server Error\")\u001b[0m\u001b[1;33m\u001b[0m\u001b[1;33m\u001b[0m\u001b[1;33m\u001b[0m\u001b[0m\n",
      "\u001b[1;31mH2OResponseError\u001b[0m: Server error water.exceptions.H2ONotFoundArgumentException:\n  Error: File C:\\av\\train_20D8GL3.csv does not exist\n  Request: POST /3/ImportFilesMulti\n    data: {'paths': '[C:\\\\av\\\\train_20D8GL3.csv]'}\n"
     ]
    }
   ],
   "source": []
  },
  {
   "cell_type": "code",
   "execution_count": null,
   "metadata": {},
   "outputs": [],
   "source": []
  }
 ],
 "metadata": {
  "kernelspec": {
   "display_name": "Python 3",
   "language": "python",
   "name": "python3"
  },
  "language_info": {
   "codemirror_mode": {
    "name": "ipython",
    "version": 3
   },
   "file_extension": ".py",
   "mimetype": "text/x-python",
   "name": "python",
   "nbconvert_exporter": "python",
   "pygments_lexer": "ipython3",
   "version": "3.7.4"
  }
 },
 "nbformat": 4,
 "nbformat_minor": 2
}
